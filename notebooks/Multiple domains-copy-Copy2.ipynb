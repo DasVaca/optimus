{
 "cells": [
  {
   "cell_type": "markdown",
   "metadata": {},
   "source": [
    "# Simulate acoustic wave propagation with multiple domains\n",
    "\n",
    "\n",
    "The OptimUS library provides functionality to simulate acoustic wave propagation in unbounded domains with homogeneous scatterers. This notebook shows the functionality to perform acoustic simulations when multiple domains are present."
   ]
  },
  {
   "cell_type": "markdown",
   "metadata": {},
   "source": [
    "## Import the OptimUS library\n",
    "\n",
    "Load the OptimUS library. Make sure the source code is in the Python path."
   ]
  },
  {
   "cell_type": "code",
   "execution_count": 1,
   "metadata": {},
   "outputs": [],
   "source": [
    "# Make sure the OptimUS library is in the Python path.\n",
    "import sys\n",
    "sys.path.append('..')"
   ]
  },
  {
   "cell_type": "code",
   "execution_count": 2,
   "metadata": {},
   "outputs": [],
   "source": [
    "import optimus"
   ]
  },
  {
   "cell_type": "code",
   "execution_count": 3,
   "metadata": {},
   "outputs": [
    {
     "name": "stdout",
     "output_type": "stream",
     "text": [
      "OptimUS version: 0.0.0\n"
     ]
    }
   ],
   "source": [
    "print(\"OptimUS version:\", optimus.__version__)"
   ]
  },
  {
   "cell_type": "code",
   "execution_count": 4,
   "metadata": {},
   "outputs": [
    {
     "name": "stdout",
     "output_type": "stream",
     "text": [
      "\n",
      "\u001b[1m\u001b[4m\u001b[91mVerbosity parameter:\u001b[0m False\n",
      "\n",
      "\u001b[1m\u001b[4m\u001b[91mLinear algebra parameters:\u001b[0m\n",
      " Tolerance: 1e-05\n",
      " Maximum number of iterations: 1000\n",
      " Number of iterations before restart: 1000\n",
      "\n",
      "\u001b[1m\u001b[4m\u001b[91mPreconditioning parameters:\u001b[0m\n",
      " OSRC preconditioner.\n",
      "  Number of Padé expansion terms: 4\n",
      "  Branch cut angle for Padé series: 1.0471975511965976\n",
      "  Wavenumber: int\n",
      "  Damped wavenumber: None\n",
      "\n",
      "\u001b[1m\u001b[4m\u001b[91mPostprocessing parameters:\u001b[0m\n",
      " Potential operator assembly type is:  h-matrix\n",
      " H-matrix epsilon for postprocessing operators: 1e-08\n",
      " H-matrix maximum rank for postprocessing operators: 10000\n",
      " H-matrix maximum block size for postprocessing operators: 10000\n"
     ]
    }
   ],
   "source": [
    "optimus.global_parameters.print()"
   ]
  },
  {
   "cell_type": "markdown",
   "metadata": {},
   "source": [
    "## Specify the physical settings for the simulation\n",
    "\n",
    "Let us consider two spherical objects embedded in an unbounded region of water. One of the domains consists of fat and the other of cortical bone. The incident plane wave has a frequency of 100 kHz and the two spheres have a radius of 7 and 5 mm, respectively."
   ]
  },
  {
   "cell_type": "code",
   "execution_count": 5,
   "metadata": {},
   "outputs": [],
   "source": [
    "frequency = 200e3\n",
    "source = optimus.source.create_planewave(frequency, direction=(1,0,0))"
   ]
  },
  {
   "cell_type": "code",
   "execution_count": 6,
   "metadata": {},
   "outputs": [],
   "source": [
    "radii = (7e-3, 5e-3)\n",
    "origins = ((-10e-3,0,0), (10e-3,0,0))\n",
    "meshwidth = 2e-3"
   ]
  },
  {
   "cell_type": "code",
   "execution_count": 7,
   "metadata": {},
   "outputs": [],
   "source": [
    "geometry_left = optimus.geometry.shapes.Sphere(radius=radii[0], origin=origins[0], element_size=meshwidth)\n",
    "geometry_right = optimus.geometry.shapes.Sphere(radius=radii[1], origin=origins[1], element_size=meshwidth)\n",
    "geometries = (geometry_left, geometry_right)"
   ]
  },
  {
   "cell_type": "code",
   "execution_count": 8,
   "metadata": {},
   "outputs": [
    {
     "data": {
      "text/plain": [
       "'sphere'"
      ]
     },
     "execution_count": 8,
     "metadata": {},
     "output_type": "execute_result"
    }
   ],
   "source": [
    "geometries[0].label"
   ]
  },
  {
   "cell_type": "markdown",
   "metadata": {},
   "source": [
    "A list of materials can be loaded at once."
   ]
  },
  {
   "cell_type": "code",
   "execution_count": 9,
   "metadata": {},
   "outputs": [],
   "source": [
    "material_ext = optimus.material.load_material('water')\n",
    "materials_int = optimus.material.load_material(('fat', 'bone (cortical)'))\n",
    "material_left, material_right = materials_int"
   ]
  },
  {
   "cell_type": "markdown",
   "metadata": {},
   "source": [
    "## Simulate the wave model\n",
    "\n",
    "The OptimUS library uses the Boundary Element Method to simulate acoustic wave propagation. The model with default settings needs the physical parameters as input. The interior domains are specified as a tuple or list of the geometries and the materials, while the exterior medium needs to be specified separately."
   ]
  },
  {
   "cell_type": "code",
   "execution_count": 10,
   "metadata": {},
   "outputs": [],
   "source": [
    "model = optimus.model.create_acoustic_model(source, geometries, material_ext, materials_int, \n",
    "                                            formulation='pmchwt',\n",
    "                                            preconditioner='osrc')"
   ]
  },
  {
   "cell_type": "markdown",
   "metadata": {},
   "source": [
    "Solving the model requires the GMRES algorithm to solve the system of boundary integral equations. This can be computationally expensive depending on the grid resolution."
   ]
  },
  {
   "cell_type": "code",
   "execution_count": 11,
   "metadata": {},
   "outputs": [],
   "source": [
    "model.solve()"
   ]
  },
  {
   "cell_type": "markdown",
   "metadata": {},
   "source": [
    "## Visualisation of the acoustic field\n",
    "\n",
    "The acoustic field can be calculated in arbitrary points. Let us visualize the field on a grid in the plane $z=0$."
   ]
  },
  {
   "cell_type": "code",
   "execution_count": 12,
   "metadata": {},
   "outputs": [],
   "source": [
    "import numpy as np\n",
    "import bempp.api\n",
    "from matplotlib import pylab as plt"
   ]
  },
  {
   "cell_type": "code",
   "execution_count": 13,
   "metadata": {},
   "outputs": [],
   "source": [
    "# Create a visualisation grid\n",
    "Nx = 61\n",
    "Ny = 71\n",
    "xmin, xmax, ymin, ymax = [20e-3, 30e-3, -15e-3, 20e-3]\n",
    "zmin, zmax = [-1e-3,1e-3]\n",
    "plot_grid = np.mgrid[xmin:xmax:Nx * 1j, ymin:ymax:Ny * 1j, zmin:zmax:Nx * 1j]\n",
    "# points = np.vstack((plot_grid[0].ravel(),\n",
    "#                     plot_grid[1].ravel(),\n",
    "#                     zval*np.ones(plot_grid[0].size)))\n",
    "points = np.vstack((plot_grid[0].ravel(),\n",
    "                    plot_grid[1].ravel(),\n",
    "                    plot_grid[2].ravel()))"
   ]
  },
  {
   "cell_type": "code",
   "execution_count": 14,
   "metadata": {},
   "outputs": [
    {
     "data": {
      "text/plain": [
       "array([[ 0.02      ,  0.02      ,  0.02      , ...,  0.03      ,\n",
       "         0.03      ,  0.03      ],\n",
       "       [-0.015     , -0.015     , -0.015     , ...,  0.02      ,\n",
       "         0.02      ,  0.02      ],\n",
       "       [-0.001     , -0.00096667, -0.00093333, ...,  0.00093333,\n",
       "         0.00096667,  0.001     ]])"
      ]
     },
     "execution_count": 14,
     "metadata": {},
     "output_type": "execute_result"
    }
   ],
   "source": [
    "points"
   ]
  },
  {
   "cell_type": "code",
   "execution_count": 15,
   "metadata": {},
   "outputs": [],
   "source": [
    "pp_2d = optimus.postprocess.PostProcess_2D(model)"
   ]
  },
  {
   "cell_type": "code",
   "execution_count": 48,
   "metadata": {},
   "outputs": [
    {
     "name": "stdout",
     "output_type": "stream",
     "text": [
      "\n",
      " Identifying the exterior and interior points Started at:  Mon, 04 Jul 2022 18:52:51\n",
      "Element groups are:\n",
      "[0]\n",
      "Time to complete solid angle field parallelisation:  3.930473566055298\n",
      "Element groups are:\n",
      "[0]\n",
      "Time to complete solid angle field parallelisation:  3.542797327041626\n",
      "\n",
      " Identifying the exterior and interior points Finished... Duration in secs:  7.549948215484619\n"
     ]
    },
    {
     "name": "stderr",
     "output_type": "stream",
     "text": [
      "../optimus/postprocess/concave_hull.py:44: RuntimeWarning: invalid value encountered in sqrt\n",
      "  area = np.sqrt(s * (s - a) * (s - b) * (s - c))\n"
     ]
    }
   ],
   "source": [
    "pp_2d.create_computational_grid(resolution=[Nx,Ny], plane_axes=[0,1], \n",
    "                             plane_offset=0, bounding_box=[7e-3, 13e-3, -4e-3, 4e-3])"
   ]
  },
  {
   "cell_type": "code",
   "execution_count": 49,
   "metadata": {},
   "outputs": [
    {
     "data": {
      "text/plain": [
       "True"
      ]
     },
     "execution_count": 49,
     "metadata": {},
     "output_type": "execute_result"
    }
   ],
   "source": [
    "pp_2d.points_interior[1].any()"
   ]
  },
  {
   "cell_type": "code",
   "execution_count": 50,
   "metadata": {},
   "outputs": [
    {
     "data": {
      "text/plain": [
       "False"
      ]
     },
     "execution_count": 50,
     "metadata": {},
     "output_type": "execute_result"
    }
   ],
   "source": [
    "pp_2d.index_interior[0].any()"
   ]
  },
  {
   "cell_type": "code",
   "execution_count": 51,
   "metadata": {},
   "outputs": [
    {
     "data": {
      "text/plain": [
       "3"
      ]
     },
     "execution_count": 51,
     "metadata": {},
     "output_type": "execute_result"
    }
   ],
   "source": [
    "len(pp_2d.points_exterior)"
   ]
  },
  {
   "cell_type": "code",
   "execution_count": 52,
   "metadata": {},
   "outputs": [
    {
     "name": "stdout",
     "output_type": "stream",
     "text": [
      "\n",
      " Calculating the interior and exterior potential operators Started at:  Mon, 04 Jul 2022 18:52:59\n",
      "Calculating the fields of Domain 1\n",
      "(3, 0) (4331,) (872.5510125840678+0.7587801706029274j) <optimus.material.common.Material object at 0x7faf3a41f588>\n",
      "\n",
      " Calculating the interior and exterior potential operators Finished... Duration in secs:  0.040053606033325195\n",
      "Calculating the fields of Domain 2\n",
      "(3, 4316) (4331,) (357.5215180479361+10.910599999999999j) <optimus.material.common.Material object at 0x7faf3a41f668>\n",
      "\n",
      " Calculating the interior and exterior potential operators Finished... Duration in secs:  0.5445492267608643\n",
      "\n",
      " Calculating the incident field Started at:  Mon, 04 Jul 2022 18:53:00\n",
      "\n",
      " Calculating the incident field Finished... Duration in secs:  0.0002200603485107422\n"
     ]
    }
   ],
   "source": [
    "pp_2d.compute_fields()"
   ]
  },
  {
   "cell_type": "code",
   "execution_count": 53,
   "metadata": {},
   "outputs": [
    {
     "data": {
      "text/plain": [
       "(4331,)"
      ]
     },
     "execution_count": 53,
     "metadata": {},
     "output_type": "execute_result"
    }
   ],
   "source": [
    "pp_2d.total_field.shape"
   ]
  },
  {
   "cell_type": "code",
   "execution_count": 54,
   "metadata": {},
   "outputs": [
    {
     "data": {
      "image/png": "[encoded data removed]",
      "text/plain": [
       "<Figure size 864x576 with 2 Axes>"
      ]
     },
     "metadata": {
      "needs_background": "light"
     },
     "output_type": "display_data"
    }
   ],
   "source": [
    "fig = plt.figure(figsize=(12, 8))\n",
    "plt.imshow(np.real(pp_2d.total_field_reshaped), extent=pp_2d.bounding_box, clim=(-2,2), cmap='seismic', \n",
    "           interpolation='bilinear')\n",
    "if len(pp_2d.domains_edges):\n",
    "    for i, j in pp_2d.domains_edges:\n",
    "        plt.plot(i, j, color = 'black', linestyle='dashed' ,linewidth=2)\n",
    "    \n",
    "plt.xlabel('x')\n",
    "plt.ylabel('y')\n",
    "plt.colorbar()\n",
    "plt.show()"
   ]
  },
  {
   "cell_type": "code",
   "execution_count": 47,
   "metadata": {},
   "outputs": [
    {
     "data": {
      "image/png": "[encoded data removed]",
      "text/plain": [
       "<Figure size 864x576 with 2 Axes>"
      ]
     },
     "metadata": {
      "needs_background": "light"
     },
     "output_type": "display_data"
    }
   ],
   "source": [
    "fig = plt.figure(figsize=(12, 8))\n",
    "plt.imshow(np.abs(pp_2d.total_field_reshaped), extent=pp_2d.bounding_box, clim=(0,2), cmap='jet', \n",
    "           interpolation='bilinear')\n",
    "if len(pp_2d.domains_edges):\n",
    "    for i, j in pp_2d.domains_edges:\n",
    "        plt.plot(i, j, color = 'black', linestyle='dashed' ,linewidth=2)\n",
    "    \n",
    "plt.xlabel('x')\n",
    "plt.ylabel('y')\n",
    "plt.colorbar()\n",
    "plt.show()"
   ]
  },
  {
   "cell_type": "code",
   "execution_count": 24,
   "metadata": {},
   "outputs": [],
   "source": [
    "# ppu_2d = optimus.postprocess.PostProcess_UserDefined(model,verbose=True)"
   ]
  },
  {
   "cell_type": "code",
   "execution_count": 25,
   "metadata": {},
   "outputs": [],
   "source": [
    "# ppu_2d.create_computational_grid(resolution=[Nx,Ny],user_points=points)"
   ]
  },
  {
   "cell_type": "code",
   "execution_count": 26,
   "metadata": {},
   "outputs": [],
   "source": [
    "# ppu_2d.compute_fields()"
   ]
  },
  {
   "cell_type": "code",
   "execution_count": 27,
   "metadata": {},
   "outputs": [],
   "source": [
    "# fig = plt.figure(figsize=(12, 8))\n",
    "# plt.imshow(np.real(ppu_2d.total_field_reshaped), extent=(xmin, xmax, ymin, ymax), clim=(-2,2), cmap='seismic', \n",
    "#            interpolation='bilinear')\n",
    "# theta = np.linspace(0, 2*np.pi, 100)\n",
    "    \n",
    "# plt.xlabel('x')\n",
    "# plt.ylabel('y')\n",
    "# plt.colorbar()\n",
    "# plt.show()"
   ]
  },
  {
   "cell_type": "code",
   "execution_count": 28,
   "metadata": {},
   "outputs": [],
   "source": [
    "ppu_3d = optimus.postprocess.PostProcess_UserDefined(model,verbose=True)"
   ]
  },
  {
   "cell_type": "code",
   "execution_count": 29,
   "metadata": {},
   "outputs": [
    {
     "name": "stdout",
     "output_type": "stream",
     "text": [
      "\n",
      " Identifying the exterior and interior points Started at:  Mon, 04 Jul 2022 18:49:13\n",
      "Element groups are:\n",
      "[0]\n"
     ]
    },
    {
     "name": "stderr",
     "output_type": "stream",
     "text": [
      "../optimus/postprocess/method.py:213: RuntimeWarning: The user-defined points will be used for field calculations.\n",
      "  RuntimeWarning,\n"
     ]
    },
    {
     "name": "stdout",
     "output_type": "stream",
     "text": [
      "Time to complete solid angle field parallelisation:  0.9020214080810547\n",
      "Element groups are:\n",
      "[0]\n",
      "Time to complete solid angle field parallelisation:  1.0502357482910156\n",
      "\n",
      " Identifying the exterior and interior points Finished... Duration in secs:  2.0288398265838623\n"
     ]
    }
   ],
   "source": [
    "ppu_3d.create_computational_grid(user_points=pp_2d.points)"
   ]
  },
  {
   "cell_type": "code",
   "execution_count": 30,
   "metadata": {},
   "outputs": [
    {
     "name": "stdout",
     "output_type": "stream",
     "text": [
      "\n",
      " Calculating the interior and exterior potential operators Started at:  Mon, 04 Jul 2022 18:49:15\n",
      "Calculating the fields of Domain 1\n",
      "(3, 4331) (4331,) (872.5510125840678+0.7587801706029274j) <optimus.material.common.Material object at 0x7faf3a41f588>\n",
      "\n",
      " Calculating the interior and exterior potential operators Finished... Duration in secs:  0.7009694576263428\n",
      "Calculating the fields of Domain 2\n",
      "(3, 0) (4331,) (357.5215180479361+10.910599999999999j) <optimus.material.common.Material object at 0x7faf3a41f668>\n",
      "\n",
      " Calculating the interior and exterior potential operators Finished... Duration in secs:  0.7051980495452881\n"
     ]
    }
   ],
   "source": [
    "ppu_3d.compute_fields()"
   ]
  },
  {
   "cell_type": "code",
   "execution_count": 31,
   "metadata": {},
   "outputs": [
    {
     "data": {
      "text/plain": [
       "array([-0.67387238+0.60630504j, -0.67762134+0.60395965j,\n",
       "       -0.68123207+0.60171894j, ...,  0.27688293-0.96528126j,\n",
       "        0.27327661-0.9716223j ,  0.26981053-0.97796675j])"
      ]
     },
     "execution_count": 31,
     "metadata": {},
     "output_type": "execute_result"
    }
   ],
   "source": [
    "ppu_3d.total_field"
   ]
  },
  {
   "cell_type": "code",
   "execution_count": 32,
   "metadata": {},
   "outputs": [
    {
     "data": {
      "image/png": "[encoded data removed]",
      "text/plain": [
       "<Figure size 864x576 with 2 Axes>"
      ]
     },
     "metadata": {
      "needs_background": "light"
     },
     "output_type": "display_data"
    }
   ],
   "source": [
    "fig = plt.figure(figsize=(12, 8))\n",
    "plt.imshow(np.flipud(np.real(ppu_3d.total_field.reshape((pp_2d.resolution)).T)), extent=pp_2d.bounding_box, clim=(-2,2), cmap='seismic', \n",
    "           interpolation='bilinear')\n",
    "if len(pp_2d.domains_edges):\n",
    "    for i, j in pp_2d.domains_edges:\n",
    "        plt.plot(i, j, color = 'black', linestyle='dashed' ,linewidth=2)\n",
    "    \n",
    "plt.xlabel('x')\n",
    "plt.ylabel('y')\n",
    "plt.colorbar()\n",
    "plt.show()"
   ]
  },
  {
   "cell_type": "code",
   "execution_count": 33,
   "metadata": {},
   "outputs": [],
   "source": [
    "pp_3d = optimus.postprocess.PostProcess_3D(model,verbose=True)"
   ]
  },
  {
   "cell_type": "code",
   "execution_count": 34,
   "metadata": {},
   "outputs": [
    {
     "name": "stdout",
     "output_type": "stream",
     "text": [
      "\n",
      " Identifying the exterior and interior points Started at:  Mon, 04 Jul 2022 18:49:23\n",
      "Element groups are:\n",
      "[0]\n",
      "Time to complete solid angle field parallelisation:  2.037593364715576\n",
      "Element groups are:\n",
      "[0]\n",
      "Time to complete solid angle field parallelisation:  2.033020496368408\n",
      "\n",
      " Identifying the exterior and interior points Finished... Duration in secs:  4.984375\n"
     ]
    }
   ],
   "source": [
    "pp_3d.create_computational_grid(plane_offset=-2e-3)"
   ]
  },
  {
   "cell_type": "code",
   "execution_count": 35,
   "metadata": {},
   "outputs": [
    {
     "data": {
      "text/plain": [
       "True"
      ]
     },
     "execution_count": 35,
     "metadata": {},
     "output_type": "execute_result"
    }
   ],
   "source": [
    "pp_3d.index_interior[0].any()"
   ]
  },
  {
   "cell_type": "code",
   "execution_count": 36,
   "metadata": {},
   "outputs": [
    {
     "name": "stdout",
     "output_type": "stream",
     "text": [
      "\n",
      " Calculating the interior and exterior potential operators Started at:  Mon, 04 Jul 2022 18:49:28\n",
      "Calculating the fields of Domain 1\n",
      "(3, 20130) (60520,) (872.5510125840678+0.7587801706029274j) <optimus.material.common.Material object at 0x7faf3a41f588>\n",
      "\n",
      " Calculating the interior and exterior potential operators Finished... Duration in secs:  9.949142694473267\n",
      "Calculating the fields of Domain 2\n",
      "(3, 9981) (60520,) (357.5215180479361+10.910599999999999j) <optimus.material.common.Material object at 0x7faf3a41f668>\n",
      "\n",
      " Calculating the interior and exterior potential operators Finished... Duration in secs:  16.290132999420166\n",
      "\n",
      " Calculating the incident field Started at:  Mon, 04 Jul 2022 18:49:44\n",
      "\n",
      " Calculating the incident field Finished... Duration in secs:  0.020134449005126953\n"
     ]
    }
   ],
   "source": [
    "pp_3d.compute_fields()"
   ]
  },
  {
   "cell_type": "code",
   "execution_count": 37,
   "metadata": {},
   "outputs": [
    {
     "data": {
      "text/plain": [
       "False"
      ]
     },
     "execution_count": 37,
     "metadata": {},
     "output_type": "execute_result"
    }
   ],
   "source": [
    "np.isnan(pp_3d.total_field).any()"
   ]
  },
  {
   "cell_type": "code",
   "execution_count": 38,
   "metadata": {},
   "outputs": [],
   "source": [
    "import bempp.api as bempp"
   ]
  },
  {
   "cell_type": "code",
   "execution_count": 39,
   "metadata": {},
   "outputs": [
    {
     "ename": "AttributeError",
     "evalue": "'numpy.ndarray' object has no attribute '_impl'",
     "output_type": "error",
     "traceback": [
      "\u001b[0;31m---------------------------------------------------------------------------\u001b[0m",
      "\u001b[0;31mAttributeError\u001b[0m                            Traceback (most recent call last)",
      "\u001b[0;32m<ipython-input-39-d79f3db5673e>\u001b[0m in \u001b[0;36m<module>\u001b[0;34m\u001b[0m\n\u001b[0;32m----> 1\u001b[0;31m \u001b[0mbempp\u001b[0m\u001b[0;34m.\u001b[0m\u001b[0mexport\u001b[0m\u001b[0;34m(\u001b[0m\u001b[0mfile_name\u001b[0m\u001b[0;34m=\u001b[0m\u001b[0;34m'test.msh'\u001b[0m\u001b[0;34m,\u001b[0m \u001b[0mgrid_function\u001b[0m \u001b[0;34m=\u001b[0m \u001b[0mbempp\u001b[0m\u001b[0;34m.\u001b[0m\u001b[0mGridFunction\u001b[0m\u001b[0;34m(\u001b[0m\u001b[0mspace\u001b[0m\u001b[0;34m=\u001b[0m\u001b[0mbempp\u001b[0m\u001b[0;34m.\u001b[0m\u001b[0mfunction_space\u001b[0m\u001b[0;34m(\u001b[0m\u001b[0mpp_2d\u001b[0m\u001b[0;34m.\u001b[0m\u001b[0mpoints\u001b[0m\u001b[0;34m,\u001b[0m \u001b[0;34m\"P\"\u001b[0m\u001b[0;34m,\u001b[0m \u001b[0;36m1\u001b[0m\u001b[0;34m)\u001b[0m\u001b[0;34m,\u001b[0m\u001b[0mcoefficients\u001b[0m\u001b[0;34m=\u001b[0m\u001b[0mpp_2d\u001b[0m\u001b[0;34m.\u001b[0m\u001b[0mtotal_field\u001b[0m\u001b[0;34m)\u001b[0m\u001b[0;34m)\u001b[0m\u001b[0;34m\u001b[0m\u001b[0m\n\u001b[0m",
      "\u001b[0;32m/usr/lib/python3/dist-packages/bempp/api/space/space.py\u001b[0m in \u001b[0;36mfunction_space\u001b[0;34m(grid, kind, order, domains, closed, strictly_on_segment, reference_point_on_segment, element_on_segment)\u001b[0m\n\u001b[1;32m    814\u001b[0m             \u001b[0mstrictly_on_segment\u001b[0m\u001b[0;34m,\u001b[0m\u001b[0;34m\u001b[0m\u001b[0m\n\u001b[1;32m    815\u001b[0m             \u001b[0melement_on_segment\u001b[0m\u001b[0;34m,\u001b[0m\u001b[0;34m\u001b[0m\u001b[0m\n\u001b[0;32m--> 816\u001b[0;31m             comp_key)\n\u001b[0m\u001b[1;32m    817\u001b[0m     \u001b[0;32melif\u001b[0m \u001b[0mkind\u001b[0m \u001b[0;34m==\u001b[0m \u001b[0;34m\"B-P\"\u001b[0m\u001b[0;34m:\u001b[0m\u001b[0;34m\u001b[0m\u001b[0m\n\u001b[1;32m    818\u001b[0m         \u001b[0;32mreturn\u001b[0m \u001b[0mBarycentricContinuousPolynomialSpace\u001b[0m\u001b[0;34m(\u001b[0m\u001b[0mgrid\u001b[0m\u001b[0;34m,\u001b[0m \u001b[0morder\u001b[0m\u001b[0;34m,\u001b[0m \u001b[0mcomp_key\u001b[0m\u001b[0;34m)\u001b[0m\u001b[0;34m\u001b[0m\u001b[0m\n",
      "\u001b[0;32m/usr/lib/python3/dist-packages/bempp/api/space/space.py\u001b[0m in \u001b[0;36m__init__\u001b[0;34m(self, grid, order, domains, closed, strictly_on_segment, element_on_segment, comp_key)\u001b[0m\n\u001b[1;32m    314\u001b[0m             \u001b[0mself\u001b[0m\u001b[0;34m)\u001b[0m\u001b[0;34m.\u001b[0m\u001b[0m__init__\u001b[0m\u001b[0;34m(\u001b[0m\u001b[0;34m\u001b[0m\u001b[0m\n\u001b[1;32m    315\u001b[0m                 _function_space(\n\u001b[0;32m--> 316\u001b[0;31m                     \u001b[0mgrid\u001b[0m\u001b[0;34m.\u001b[0m\u001b[0m_impl\u001b[0m\u001b[0;34m,\u001b[0m\u001b[0;34m\u001b[0m\u001b[0m\n\u001b[0m\u001b[1;32m    317\u001b[0m                     \u001b[0;34m\"P\"\u001b[0m\u001b[0;34m,\u001b[0m\u001b[0;34m\u001b[0m\u001b[0m\n\u001b[1;32m    318\u001b[0m                     \u001b[0morder\u001b[0m\u001b[0;34m,\u001b[0m\u001b[0;34m\u001b[0m\u001b[0m\n",
      "\u001b[0;31mAttributeError\u001b[0m: 'numpy.ndarray' object has no attribute '_impl'"
     ]
    }
   ],
   "source": [
    "bempp.export(file_name='test.msh', grid_function = bempp.GridFunction(space=bempp.function_space(pp_2d.points, \"P\", 1),coefficients=pp_2d.total_field))"
   ]
  },
  {
   "cell_type": "code",
   "execution_count": null,
   "metadata": {},
   "outputs": [],
   "source": []
  }
 ],
 "metadata": {
  "kernelspec": {
   "display_name": "Python 3",
   "language": "python",
   "name": "python3"
  },
  "language_info": {
   "codemirror_mode": {
    "name": "ipython",
    "version": 3
   },
   "file_extension": ".py",
   "mimetype": "text/x-python",
   "name": "python",
   "nbconvert_exporter": "python",
   "pygments_lexer": "ipython3",
   "version": "3.5.2"
  }
 },
 "nbformat": 4,
 "nbformat_minor": 4
}
