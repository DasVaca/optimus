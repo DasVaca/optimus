{
 "cells": [
  {
   "cell_type": "markdown",
   "metadata": {},
   "source": [
    "# Simulate acoustic wave propagation with multiple domains\n",
    "\n",
    "\n",
    "The OptimUS library provides functionality to simulate acoustic wave propagation in unbounded domains with homogeneous scatterers. This notebook shows the functionality to perform acoustic simulations when multiple domains are present."
   ]
  },
  {
   "cell_type": "markdown",
   "metadata": {},
   "source": [
    "## Import the OptimUS library\n",
    "\n",
    "Load the OptimUS library. Make sure the source code is in the Python path."
   ]
  },
  {
   "cell_type": "code",
   "execution_count": 1,
   "metadata": {},
   "outputs": [],
   "source": [
    "# Make sure the OptimUS library is in the Python path.\n",
    "import sys\n",
    "sys.path.append('..')"
   ]
  },
  {
   "cell_type": "code",
   "execution_count": 2,
   "metadata": {},
   "outputs": [],
   "source": [
    "import optimus"
   ]
  },
  {
   "cell_type": "code",
   "execution_count": 3,
   "metadata": {},
   "outputs": [
    {
     "name": "stdout",
     "output_type": "stream",
     "text": [
      "OptimUS version: 0.0.0\n"
     ]
    }
   ],
   "source": [
    "print(\"OptimUS version:\", optimus.__version__)"
   ]
  },
  {
   "cell_type": "code",
   "execution_count": 4,
   "metadata": {},
   "outputs": [
    {
     "name": "stdout",
     "output_type": "stream",
     "text": [
      "\n",
      "\u001b[1m\u001b[4m\u001b[91mVerbosity parameter:\u001b[0m False\n",
      "\n",
      "\u001b[1m\u001b[4m\u001b[91mLinear algebra parameters:\u001b[0m\n",
      " Tolerance: 1e-05\n",
      " Maximum number of iterations: 1000\n",
      " Number of iterations before restart: 1000\n",
      "\n",
      "\u001b[1m\u001b[4m\u001b[91mPreconditioning parameters:\u001b[0m\n",
      " OSRC preconditioner.\n",
      "  Number of Padé expansion terms: 4\n",
      "  Branch cut angle for Padé series: 1.0471975511965976\n",
      "  Wavenumber: int\n",
      "  Damped wavenumber: None\n",
      "\n",
      "\u001b[1m\u001b[4m\u001b[91mPostprocessing parameters:\u001b[0m\n",
      " Potential operator assembly type is:  h-matrix\n",
      " H-matrix epsilon for postprocessing operators: 1e-08\n",
      " H-matrix maximum rank for postprocessing operators: 10000\n",
      " H-matrix maximum block size for postprocessing operators: 10000\n"
     ]
    }
   ],
   "source": [
    "optimus.global_parameters.print()"
   ]
  },
  {
   "cell_type": "markdown",
   "metadata": {},
   "source": [
    "## Specify the physical settings for the simulation\n",
    "\n",
    "Let us consider two spherical objects embedded in an unbounded region of water. One of the domains consists of fat and the other of cortical bone. The incident plane wave has a frequency of 100 kHz and the two spheres have a radius of 7 and 5 mm, respectively."
   ]
  },
  {
   "cell_type": "code",
   "execution_count": 5,
   "metadata": {},
   "outputs": [],
   "source": [
    "frequency = 2e3\n",
    "source = optimus.source.create_planewave(frequency, direction=(1,0,0))"
   ]
  },
  {
   "cell_type": "code",
   "execution_count": 6,
   "metadata": {},
   "outputs": [],
   "source": [
    "radii = (7e-3, 5e-3)\n",
    "origins = ((-10e-3,0,0), (10e-3,0,0))\n",
    "meshwidth = 2e-3"
   ]
  },
  {
   "cell_type": "code",
   "execution_count": 7,
   "metadata": {},
   "outputs": [],
   "source": [
    "geometry_left = optimus.geometry.shapes.Sphere(radius=radii[0], origin=origins[0], element_size=meshwidth)\n",
    "geometry_right = optimus.geometry.shapes.Sphere(radius=radii[1], origin=origins[1], element_size=meshwidth)\n",
    "geometries = (geometry_left, geometry_right)"
   ]
  },
  {
   "cell_type": "code",
   "execution_count": 8,
   "metadata": {},
   "outputs": [
    {
     "data": {
      "text/plain": [
       "'sphere'"
      ]
     },
     "execution_count": 8,
     "metadata": {},
     "output_type": "execute_result"
    }
   ],
   "source": [
    "geometries[0].label"
   ]
  },
  {
   "cell_type": "markdown",
   "metadata": {},
   "source": [
    "A list of materials can be loaded at once."
   ]
  },
  {
   "cell_type": "code",
   "execution_count": 9,
   "metadata": {},
   "outputs": [],
   "source": [
    "material_ext = optimus.material.load_material('water')\n",
    "materials_int = optimus.material.load_material(('fat', 'bone (cortical)'))\n",
    "material_left, material_right = materials_int"
   ]
  },
  {
   "cell_type": "markdown",
   "metadata": {},
   "source": [
    "## Simulate the wave model\n",
    "\n",
    "The OptimUS library uses the Boundary Element Method to simulate acoustic wave propagation. The model with default settings needs the physical parameters as input. The interior domains are specified as a tuple or list of the geometries and the materials, while the exterior medium needs to be specified separately."
   ]
  },
  {
   "cell_type": "code",
   "execution_count": 10,
   "metadata": {},
   "outputs": [],
   "source": [
    "model = optimus.model.create_acoustic_model(source, geometries, material_ext, materials_int, \n",
    "                                            formulation='pmchwt',\n",
    "                                            preconditioner='osrc')"
   ]
  },
  {
   "cell_type": "markdown",
   "metadata": {},
   "source": [
    "Solving the model requires the GMRES algorithm to solve the system of boundary integral equations. This can be computationally expensive depending on the grid resolution."
   ]
  },
  {
   "cell_type": "code",
   "execution_count": 11,
   "metadata": {},
   "outputs": [],
   "source": [
    "model.solve()"
   ]
  },
  {
   "cell_type": "markdown",
   "metadata": {},
   "source": [
    "## Visualisation of the acoustic field\n",
    "\n",
    "The acoustic field can be calculated in arbitrary points. Let us visualize the field on a grid in the plane $z=0$."
   ]
  },
  {
   "cell_type": "code",
   "execution_count": 12,
   "metadata": {},
   "outputs": [],
   "source": [
    "import numpy as np\n",
    "import bempp.api\n",
    "from matplotlib import pylab as plt"
   ]
  },
  {
   "cell_type": "code",
   "execution_count": 13,
   "metadata": {},
   "outputs": [],
   "source": [
    "# Create a visualisation grid\n",
    "Nx = 61\n",
    "Ny = 71\n",
    "xmin, xmax, ymin, ymax = [20e-3, 30e-3, -15e-3, 20e-3]\n",
    "zmin, zmax = [-1e-3,1e-3]\n",
    "plot_grid = np.mgrid[xmin:xmax:Nx * 1j, ymin:ymax:Ny * 1j, zmin:zmax:Nx * 1j]\n",
    "# points = np.vstack((plot_grid[0].ravel(),\n",
    "#                     plot_grid[1].ravel(),\n",
    "#                     zval*np.ones(plot_grid[0].size)))\n",
    "points = np.vstack((plot_grid[0].ravel(),\n",
    "                    plot_grid[1].ravel(),\n",
    "                    plot_grid[2].ravel()))"
   ]
  },
  {
   "cell_type": "code",
   "execution_count": 14,
   "metadata": {},
   "outputs": [
    {
     "data": {
      "text/plain": [
       "array([[ 0.02      ,  0.02      ,  0.02      , ...,  0.03      ,\n",
       "         0.03      ,  0.03      ],\n",
       "       [-0.015     , -0.015     , -0.015     , ...,  0.02      ,\n",
       "         0.02      ,  0.02      ],\n",
       "       [-0.001     , -0.00096667, -0.00093333, ...,  0.00093333,\n",
       "         0.00096667,  0.001     ]])"
      ]
     },
     "execution_count": 14,
     "metadata": {},
     "output_type": "execute_result"
    }
   ],
   "source": [
    "points"
   ]
  },
  {
   "cell_type": "code",
   "execution_count": 15,
   "metadata": {},
   "outputs": [],
   "source": [
    "pp_2d = optimus.postprocess.PostProcess_2D(model)"
   ]
  },
  {
   "cell_type": "code",
   "execution_count": 16,
   "metadata": {},
   "outputs": [
    {
     "name": "stdout",
     "output_type": "stream",
     "text": [
      "\n",
      " Identifying the exterior and interior points Started at:  Sun, 26 Jun 2022 22:40:05\n",
      "Element groups are:\n",
      "[0]\n",
      "Time to complete solid angle field parallelisation:  0.9745001792907715\n",
      "Element groups are:\n",
      "[0]\n",
      "Time to complete solid angle field parallelisation:  1.0138204097747803\n",
      "\n",
      " Identifying the exterior and interior points Finished... Duration in secs:  2.062732696533203\n"
     ]
    },
    {
     "name": "stderr",
     "output_type": "stream",
     "text": [
      "../optimus/postprocess/concave_hull.py:45: RuntimeWarning: divide by zero encountered in double_scalars\n",
      "  circum_r = a * b * c / (4.0 * area)\n"
     ]
    }
   ],
   "source": [
    "pp_2d.create_computational_grid(resolution=[Nx,Ny], plane_axes=[0,1], \n",
    "                             plane_offset=0, bounding_box=[-20e-3, 30e-3, -15e-3, 20e-3])"
   ]
  },
  {
   "cell_type": "code",
   "execution_count": 17,
   "metadata": {},
   "outputs": [
    {
     "data": {
      "text/plain": [
       "array([[-0.02  , -0.02  , -0.02  , ...,  0.03  ,  0.03  ,  0.03  ],\n",
       "       [-0.015 , -0.0145, -0.014 , ...,  0.019 ,  0.0195,  0.02  ],\n",
       "       [ 0.    ,  0.    ,  0.    , ...,  0.    ,  0.    ,  0.    ]])"
      ]
     },
     "execution_count": 17,
     "metadata": {},
     "output_type": "execute_result"
    }
   ],
   "source": [
    "pp_2d.points"
   ]
  },
  {
   "cell_type": "code",
   "execution_count": 18,
   "metadata": {},
   "outputs": [
    {
     "data": {
      "text/plain": [
       "True"
      ]
     },
     "execution_count": 18,
     "metadata": {},
     "output_type": "execute_result"
    }
   ],
   "source": [
    "pp_2d.index_interior[1].any()"
   ]
  },
  {
   "cell_type": "code",
   "execution_count": 19,
   "metadata": {},
   "outputs": [
    {
     "data": {
      "text/plain": [
       "True"
      ]
     },
     "execution_count": 19,
     "metadata": {},
     "output_type": "execute_result"
    }
   ],
   "source": [
    "pp_2d.index_exterior.any()"
   ]
  },
  {
   "cell_type": "code",
   "execution_count": 20,
   "metadata": {},
   "outputs": [
    {
     "name": "stdout",
     "output_type": "stream",
     "text": [
      "\n",
      " Calculating the interior and exterior potential operators Started at:  Sun, 26 Jun 2022 22:40:07\n",
      "Calculating the fields of Domain 1\n",
      "(3, 363) (4331,) (8.725510125840678+0.005104062371778364j) <optimus.material.common.Material object at 0x7f4a9ecd1ef0>\n",
      "\n",
      " Calculating the interior and exterior potential operators Finished... Duration in secs:  0.8836236000061035\n",
      "Calculating the fields of Domain 2\n",
      "(3, 181) (4331,) (3.5752151804793613+0.109106j) <optimus.material.common.Material object at 0x7f4a9ece9c18>\n",
      "\n",
      " Calculating the interior and exterior potential operators Finished... Duration in secs:  1.2772419452667236\n",
      "\n",
      " Calculating the incident field Started at:  Sun, 26 Jun 2022 22:40:08\n",
      "\n",
      " Calculating the incident field Finished... Duration in secs:  0.011407852172851562\n"
     ]
    }
   ],
   "source": [
    "pp_2d.compute_fields()"
   ]
  },
  {
   "cell_type": "code",
   "execution_count": 21,
   "metadata": {},
   "outputs": [
    {
     "data": {
      "text/plain": [
       "(4331,)"
      ]
     },
     "execution_count": 21,
     "metadata": {},
     "output_type": "execute_result"
    }
   ],
   "source": [
    "pp_2d.total_field.shape"
   ]
  },
  {
   "cell_type": "code",
   "execution_count": 42,
   "metadata": {},
   "outputs": [
    {
     "data": {
      "image/png": "[encoded data removed]",
      "text/plain": [
       "<Figure size 864x576 with 2 Axes>"
      ]
     },
     "metadata": {
      "needs_background": "light"
     },
     "output_type": "display_data"
    }
   ],
   "source": [
    "fig = plt.figure(figsize=(12, 8))\n",
    "plt.imshow(np.real(pp_2d.total_field_reshaped), extent=pp_2d.bounding_box, clim=(-2,2), cmap='seismic', \n",
    "           interpolation='bilinear')\n",
    "\n",
    "for i, j in pp_2d.domains_edges:\n",
    "    plt.plot(i, j, color = 'black', linestyle='dashed' ,linewidth=2)\n",
    "    \n",
    "plt.xlabel('x')\n",
    "plt.ylabel('y')\n",
    "plt.colorbar()\n",
    "plt.show()"
   ]
  },
  {
   "cell_type": "code",
   "execution_count": 23,
   "metadata": {},
   "outputs": [],
   "source": [
    "# ppu_2d = optimus.postprocess.PostProcess_UserDefined(model,verbose=True)"
   ]
  },
  {
   "cell_type": "code",
   "execution_count": 24,
   "metadata": {},
   "outputs": [],
   "source": [
    "# ppu_2d.create_computational_grid(resolution=[Nx,Ny],user_points=points)"
   ]
  },
  {
   "cell_type": "code",
   "execution_count": 25,
   "metadata": {},
   "outputs": [],
   "source": [
    "# ppu_2d.compute_fields()"
   ]
  },
  {
   "cell_type": "code",
   "execution_count": 26,
   "metadata": {},
   "outputs": [],
   "source": [
    "# fig = plt.figure(figsize=(12, 8))\n",
    "# plt.imshow(np.real(ppu_2d.total_field_reshaped), extent=(xmin, xmax, ymin, ymax), clim=(-2,2), cmap='seismic', \n",
    "#            interpolation='bilinear')\n",
    "# theta = np.linspace(0, 2*np.pi, 100)\n",
    "    \n",
    "# plt.xlabel('x')\n",
    "# plt.ylabel('y')\n",
    "# plt.colorbar()\n",
    "# plt.show()"
   ]
  },
  {
   "cell_type": "code",
   "execution_count": 27,
   "metadata": {},
   "outputs": [],
   "source": [
    "ppu_3d = optimus.postprocess.PostProcess_UserDefined(model,verbose=True)"
   ]
  },
  {
   "cell_type": "code",
   "execution_count": 28,
   "metadata": {},
   "outputs": [
    {
     "name": "stdout",
     "output_type": "stream",
     "text": [
      "\n",
      " Identifying the exterior and interior points Started at:  Sun, 26 Jun 2022 22:40:09\n",
      "Element groups are:\n",
      "[0]\n"
     ]
    },
    {
     "name": "stderr",
     "output_type": "stream",
     "text": [
      "../optimus/postprocess/method.py:213: RuntimeWarning: The user-defined points will be used for field calculations.\n",
      "  RuntimeWarning,\n"
     ]
    },
    {
     "name": "stdout",
     "output_type": "stream",
     "text": [
      "Time to complete solid angle field parallelisation:  5.412390947341919\n",
      "Element groups are:\n",
      "[0]\n",
      "Time to complete solid angle field parallelisation:  5.34433650970459\n",
      "\n",
      " Identifying the exterior and interior points Finished... Duration in secs:  13.942238092422485\n"
     ]
    }
   ],
   "source": [
    "ppu_3d.create_computational_grid(user_points=points)"
   ]
  },
  {
   "cell_type": "code",
   "execution_count": 29,
   "metadata": {},
   "outputs": [
    {
     "name": "stdout",
     "output_type": "stream",
     "text": [
      "\n",
      " Calculating the interior and exterior potential operators Started at:  Sun, 26 Jun 2022 22:40:23\n",
      "Calculating the fields of Domain 1\n",
      "(3, 0) (264191,) (8.725510125840678+0.005104062371778364j) <optimus.material.common.Material object at 0x7f4a9ecd1ef0>\n",
      "\n",
      " Calculating the interior and exterior potential operators Finished... Duration in secs:  34.225127935409546\n",
      "Calculating the fields of Domain 2\n",
      "(3, 0) (264191,) (3.5752151804793613+0.109106j) <optimus.material.common.Material object at 0x7f4a9ece9c18>\n",
      "\n",
      " Calculating the interior and exterior potential operators Finished... Duration in secs:  61.90796875953674\n",
      "\n",
      " Calculating the incident field Started at:  Sun, 26 Jun 2022 22:41:25\n",
      "\n",
      " Calculating the incident field Finished... Duration in secs:  0.04464364051818848\n"
     ]
    }
   ],
   "source": [
    "ppu_3d.compute_fields()"
   ]
  },
  {
   "cell_type": "code",
   "execution_count": 35,
   "metadata": {},
   "outputs": [
    {
     "data": {
      "text/plain": [
       "array([0.98552338+0.1689753j , 0.98552336+0.16897539j,\n",
       "       0.98552334+0.16897548j, ..., 0.96775276+0.2517088j ,\n",
       "       0.96775277+0.25170879j, 0.96775277+0.25170877j])"
      ]
     },
     "execution_count": 35,
     "metadata": {},
     "output_type": "execute_result"
    }
   ],
   "source": [
    "ppu_3d.total_field"
   ]
  },
  {
   "cell_type": "code",
   "execution_count": 38,
   "metadata": {},
   "outputs": [
    {
     "data": {
      "text/plain": [
       "array([0.98568447-0.1687784j , 0.98568674-0.16877144j,\n",
       "       0.98568917-0.16876359j, ..., 0.96774936+0.25172097j,\n",
       "       0.96775105+0.25171489j, 0.96775269+0.25170905j])"
      ]
     },
     "execution_count": 38,
     "metadata": {},
     "output_type": "execute_result"
    }
   ],
   "source": [
    "pp_2d.total_field"
   ]
  },
  {
   "cell_type": "code",
   "execution_count": 30,
   "metadata": {},
   "outputs": [],
   "source": [
    "pp_3d = optimus.postprocess.PostProcess_3D(model,verbose=True)"
   ]
  },
  {
   "cell_type": "code",
   "execution_count": 31,
   "metadata": {},
   "outputs": [
    {
     "name": "stdout",
     "output_type": "stream",
     "text": [
      "\n",
      " Identifying the exterior and interior points Started at:  Sun, 26 Jun 2022 22:41:31\n",
      "Element groups are:\n",
      "[0]\n",
      "Time to complete solid angle field parallelisation:  5.345489263534546\n",
      "Element groups are:\n",
      "[0]\n",
      "Time to complete solid angle field parallelisation:  5.752026081085205\n",
      "\n",
      " Identifying the exterior and interior points Finished... Duration in secs:  11.94873833656311\n"
     ]
    }
   ],
   "source": [
    "pp_3d.create_computational_grid(plane_offset=0.0)"
   ]
  },
  {
   "cell_type": "code",
   "execution_count": 32,
   "metadata": {},
   "outputs": [
    {
     "data": {
      "text/plain": [
       "True"
      ]
     },
     "execution_count": 32,
     "metadata": {},
     "output_type": "execute_result"
    }
   ],
   "source": [
    "pp_3d.index_interior[1].any()"
   ]
  },
  {
   "cell_type": "code",
   "execution_count": 33,
   "metadata": {},
   "outputs": [
    {
     "name": "stdout",
     "output_type": "stream",
     "text": [
      "\n",
      " Calculating the interior and exterior potential operators Started at:  Sun, 26 Jun 2022 22:41:43\n",
      "Calculating the fields of Domain 1\n",
      "(3, 20130) (60520,) (8.725510125840678+0.005104062371778364j) <optimus.material.common.Material object at 0x7f4a9ecd1ef0>\n",
      "\n",
      " Calculating the interior and exterior potential operators Finished... Duration in secs:  7.982728719711304\n",
      "Calculating the fields of Domain 2\n",
      "(3, 9981) (60520,) (3.5752151804793613+0.109106j) <optimus.material.common.Material object at 0x7f4a9ece9c18>\n",
      "\n",
      " Calculating the interior and exterior potential operators Finished... Duration in secs:  13.720355749130249\n",
      "\n",
      " Calculating the incident field Started at:  Sun, 26 Jun 2022 22:41:57\n",
      "\n",
      " Calculating the incident field Finished... Duration in secs:  0.015495538711547852\n"
     ]
    }
   ],
   "source": [
    "pp_3d.compute_fields()"
   ]
  },
  {
   "cell_type": "code",
   "execution_count": 34,
   "metadata": {},
   "outputs": [
    {
     "ename": "ValueError",
     "evalue": "cannot reshape array of size 60520 into shape (141,141)",
     "output_type": "error",
     "traceback": [
      "\u001b[0;31m---------------------------------------------------------------------------\u001b[0m",
      "\u001b[0;31mValueError\u001b[0m                                Traceback (most recent call last)",
      "\u001b[0;32m<ipython-input-34-e490d7ec1337>\u001b[0m in \u001b[0;36m<module>\u001b[0;34m\u001b[0m\n\u001b[1;32m      1\u001b[0m \u001b[0mfig\u001b[0m \u001b[0;34m=\u001b[0m \u001b[0mplt\u001b[0m\u001b[0;34m.\u001b[0m\u001b[0mfigure\u001b[0m\u001b[0;34m(\u001b[0m\u001b[0mfigsize\u001b[0m\u001b[0;34m=\u001b[0m\u001b[0;34m(\u001b[0m\u001b[0;36m12\u001b[0m\u001b[0;34m,\u001b[0m \u001b[0;36m8\u001b[0m\u001b[0;34m)\u001b[0m\u001b[0;34m)\u001b[0m\u001b[0;34m\u001b[0m\u001b[0m\n\u001b[0;32m----> 2\u001b[0;31m \u001b[0mpp_3d_ptot_plot\u001b[0m \u001b[0;34m=\u001b[0m \u001b[0mnp\u001b[0m\u001b[0;34m.\u001b[0m\u001b[0mflipud\u001b[0m\u001b[0;34m(\u001b[0m\u001b[0mpp_3d\u001b[0m\u001b[0;34m.\u001b[0m\u001b[0mtotal_field\u001b[0m\u001b[0;34m.\u001b[0m\u001b[0mreshape\u001b[0m\u001b[0;34m(\u001b[0m\u001b[0mpp_3d\u001b[0m\u001b[0;34m.\u001b[0m\u001b[0mresolution\u001b[0m\u001b[0;34m)\u001b[0m\u001b[0;34m.\u001b[0m\u001b[0mT\u001b[0m\u001b[0;34m)\u001b[0m\u001b[0;34m\u001b[0m\u001b[0m\n\u001b[0m\u001b[1;32m      3\u001b[0m plt.imshow(np.real(pp_3d_ptot_plot), extent=(xmin, xmax, ymin, ymax), clim=(-2,2), cmap='seismic', \n\u001b[1;32m      4\u001b[0m            interpolation='bilinear')\n\u001b[1;32m      5\u001b[0m \u001b[0mtheta\u001b[0m \u001b[0;34m=\u001b[0m \u001b[0mnp\u001b[0m\u001b[0;34m.\u001b[0m\u001b[0mlinspace\u001b[0m\u001b[0;34m(\u001b[0m\u001b[0;36m0\u001b[0m\u001b[0;34m,\u001b[0m \u001b[0;36m2\u001b[0m\u001b[0;34m*\u001b[0m\u001b[0mnp\u001b[0m\u001b[0;34m.\u001b[0m\u001b[0mpi\u001b[0m\u001b[0;34m,\u001b[0m \u001b[0;36m100\u001b[0m\u001b[0;34m)\u001b[0m\u001b[0;34m\u001b[0m\u001b[0m\n",
      "\u001b[0;31mValueError\u001b[0m: cannot reshape array of size 60520 into shape (141,141)"
     ]
    },
    {
     "data": {
      "text/plain": [
       "<Figure size 864x576 with 0 Axes>"
      ]
     },
     "metadata": {},
     "output_type": "display_data"
    }
   ],
   "source": [
    "fig = plt.figure(figsize=(12, 8))\n",
    "pp_3d_ptot_plot = np.flipud(pp_3d.total_field.reshape(pp_3d.resolution).T)\n",
    "plt.imshow(np.real(pp_3d_ptot_plot), extent=(xmin, xmax, ymin, ymax), clim=(-2,2), cmap='seismic', \n",
    "           interpolation='bilinear')\n",
    "    \n",
    "plt.xlabel('x')\n",
    "plt.ylabel('y')\n",
    "plt.colorbar()\n",
    "plt.show()"
   ]
  },
  {
   "cell_type": "code",
   "execution_count": null,
   "metadata": {},
   "outputs": [],
   "source": [
    "np.isnan(pp_3d.total_field).any()"
   ]
  },
  {
   "cell_type": "code",
   "execution_count": null,
   "metadata": {},
   "outputs": [],
   "source": []
  }
 ],
 "metadata": {
  "kernelspec": {
   "display_name": "Python 3",
   "language": "python",
   "name": "python3"
  },
  "language_info": {
   "codemirror_mode": {
    "name": "ipython",
    "version": 3
   },
   "file_extension": ".py",
   "mimetype": "text/x-python",
   "name": "python",
   "nbconvert_exporter": "python",
   "pygments_lexer": "ipython3",
   "version": "3.5.2"
  }
 },
 "nbformat": 4,
 "nbformat_minor": 4
}
