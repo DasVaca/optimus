{
 "cells": [
  {
   "cell_type": "markdown",
   "metadata": {},
   "source": [
    "# Simulate acoustic wave propagation of an array source\n",
    "\n",
    "\n",
    "The OptimUS library provides functionality to simulate acoustic wave propagation in unbounded domains with homogeneous scatterers. This notebook showcases the basic functionality to perform acoustic simulations. The simulation consists of an array of circular piston source distributed in a pseudo-random way on a spherical section bowl source radiating in an unbounded water region and a spherical scatterer resembling bone.\n"
   ]
  },
  {
   "cell_type": "markdown",
   "metadata": {},
   "source": [
    "## Import the OptimUS library\n",
    "\n",
    "Load the OptimUS library. Make sure the source code is in the Python path."
   ]
  },
  {
   "cell_type": "code",
   "execution_count": null,
   "metadata": {},
   "outputs": [],
   "source": [
    "# Make sure the OptimUS library is in the Python path.\n",
    "import sys\n",
    "sys.path.append('..')"
   ]
  },
  {
   "cell_type": "code",
   "execution_count": null,
   "metadata": {},
   "outputs": [],
   "source": [
    "import optimus\n",
    "import numpy as np"
   ]
  },
  {
   "cell_type": "code",
   "execution_count": null,
   "metadata": {},
   "outputs": [],
   "source": [
    "print(\"OptimUS version:\", optimus.__version__)"
   ]
  },
  {
   "cell_type": "markdown",
   "metadata": {},
   "source": [
    "## Specify the physical settings for the simulation\n",
    "\n",
    "The OptimUS library provides functionality to simulate acoustic wave propagation. For each simulation, one needs to specify the type of source of the acoustic field, the geometry of the scatterer, and the material parameters."
   ]
  },
  {
   "cell_type": "markdown",
   "metadata": {},
   "source": [
    "The OptimUS library provides different predefined wave fields, among which is a multi-element array source radiating in 2*pi space. The array requires the frequency, the element radius and the locations of the centroids of the circular piston elements. The radius of curvature is inferred from the centroid locations. Optionally, the source axis, the piston velocities and the source location may be specified."
   ]
  },
  {
   "cell_type": "code",
   "execution_count": null,
   "metadata": {},
   "outputs": [],
   "source": [
    "frequency = 0.5e6\n",
    "a=3e-3\n",
    "centroid_file='default_random_array_centroid_locations.dat'"
   ]
  },
  {
   "cell_type": "markdown",
   "metadata": {},
   "source": [
    "### Load centroid locations using file"
   ]
  },
  {
   "cell_type": "code",
   "execution_count": null,
   "metadata": {},
   "outputs": [],
   "source": [
    "source = optimus.source.create_array(frequency, element_radius=a, centroid_locations=centroid_file)"
   ]
  },
  {
   "cell_type": "markdown",
   "metadata": {},
   "source": [
    "###  Load centroid locations from numpy array and specify number of elements and radius of curvature (these are redundant entries - is there a more elegant way to implement this so that these remain attributes of source?)"
   ]
  },
  {
   "cell_type": "code",
   "execution_count": null,
   "metadata": {},
   "outputs": [],
   "source": [
    "centroid_locations = np.loadtxt(centroid_file)\n",
    "source = optimus.source.create_array(frequency, element_radius=a, centroid_locations=centroid_locations,\n",
    "                                     number_of_elements=256, radius_of_curvature=0.18)"
   ]
  },
  {
   "cell_type": "markdown",
   "metadata": {},
   "source": [
    "### Specify velocity as a scalar. A spherical focusing velocity vector is created from this value so that all elements vibrate in phase at 0.4 m/s."
   ]
  },
  {
   "cell_type": "code",
   "execution_count": null,
   "metadata": {},
   "outputs": [],
   "source": [
    "velocity = 0.4\n",
    "source = optimus.source.create_array(frequency, element_radius=a, centroid_locations=centroid_file,\n",
    "                                     velocity=velocity)"
   ]
  },
  {
   "cell_type": "markdown",
   "metadata": {},
   "source": [
    "### Specify velocity vector as an array."
   ]
  },
  {
   "cell_type": "code",
   "execution_count": null,
   "metadata": {},
   "outputs": [],
   "source": [
    "rand_velocity = np.random.rand(256) + 1j * np.random.rand(256)\n",
    "source = optimus.source.create_array(frequency, element_radius=a, centroid_locations=centroid_file,\n",
    "                                     velocity=rand_velocity)"
   ]
  },
  {
   "cell_type": "markdown",
   "metadata": {},
   "source": [
    "### An inconsistent number is specified for the number of elements. This raises a value error."
   ]
  },
  {
   "cell_type": "code",
   "execution_count": null,
   "metadata": {},
   "outputs": [],
   "source": [
    "source = optimus.source.create_array(frequency, element_radius=a, centroid_locations=centroid_locations,\n",
    "                                     number_of_elements=255)"
   ]
  },
  {
   "cell_type": "markdown",
   "metadata": {},
   "source": [
    "### An inconsistent number is specified for the radius of curvature. This raises a value error."
   ]
  },
  {
   "cell_type": "code",
   "execution_count": null,
   "metadata": {},
   "outputs": [],
   "source": [
    "source = optimus.source.create_array(frequency, element_radius=a, centroid_locations=centroid_locations,\n",
    "                                     radius_of_curvature=0.179)"
   ]
  },
  {
   "cell_type": "markdown",
   "metadata": {},
   "source": [
    "### Centroid locations which do not lie on a sphere are specified. This raises a value error."
   ]
  },
  {
   "cell_type": "code",
   "execution_count": null,
   "metadata": {},
   "outputs": [],
   "source": [
    "rand_centroid_locations = np.random.rand(3,256)\n",
    "source = optimus.source.create_array(frequency, element_radius=a, centroid_locations=rand_centroid_locations)"
   ]
  },
  {
   "cell_type": "code",
   "execution_count": null,
   "metadata": {},
   "outputs": [],
   "source": []
  }
 ],
 "metadata": {
  "kernelspec": {
   "display_name": "Python 3",
   "language": "python",
   "name": "python3"
  },
  "language_info": {
   "codemirror_mode": {
    "name": "ipython",
    "version": 3
   },
   "file_extension": ".py",
   "mimetype": "text/x-python",
   "name": "python",
   "nbconvert_exporter": "python",
   "pygments_lexer": "ipython3",
   "version": "3.5.2"
  }
 },
 "nbformat": 4,
 "nbformat_minor": 4
}
