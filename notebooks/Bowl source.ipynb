{
   "cells": [
      {
         "cell_type": "markdown",
         "metadata": {},
         "source": [
            "# Simulate acoustic wave propagation of a bowl source\n",
            "\n",
            "The OptimUS library provides functionality to simulate acoustic wave propagation in unbounded domains with homogeneous scatterers. This notebook demonstrates a simulation with a spherical section bowl source."
         ]
      },
      {
         "cell_type": "markdown",
         "metadata": {},
         "source": [
            "## Import the OptimUS library\n",
            "\n",
            "Load the OptimUS library."
         ]
      },
      {
         "cell_type": "code",
         "execution_count": 1,
         "metadata": {},
         "outputs": [],
         "source": [
            "import optimus"
         ]
      },
      {
         "cell_type": "markdown",
         "metadata": {},
         "source": [
            "## Specify a spherical section bowl as acoustic source\n",
            "\n",
            "The OptimUS library provides different predefined wave fields, among which is a spherical section bowl source radiating in 2*pi space. The bowl requires the frequency, outer radius and radius of curvature to be specified and, optionally, the source axis, the velocity and its location, which is in this case at [-4, 0, 0]. An inner radius may also be specified to simulate the presence of a circular aperture."
         ]
      },
      {
         "cell_type": "code",
         "execution_count": 2,
         "metadata": {},
         "outputs": [],
         "source": [
            "frequency = 1000\n",
            "radius = 1\n",
            "location = (-4, 0, 0)\n",
            "source = optimus.source.create_bowl(frequency, outer_radius=radius, radius_of_curvature=radius, \n",
            "                                    location=location, inner_radius=0)"
         ]
      },
      {
         "cell_type": "markdown",
         "metadata": {},
         "source": [
            "## Specify the physical settings for the simulation\n",
            "\n",
            "Let us consider a spherical object with unit radius that resembles bone and is embedded in an unbounded region of water."
         ]
      },
      {
         "cell_type": "code",
         "execution_count": 3,
         "metadata": {},
         "outputs": [],
         "source": [
            "geometry = optimus.geometry.shapes.Sphere(element_size=0.4)\n",
            "material_ext = optimus.material.load_material('water')\n",
            "material_int = optimus.material.load_material('bone (cortical)')"
         ]
      },
      {
         "cell_type": "markdown",
         "metadata": {},
         "source": [
            "## Simulate the wave model\n",
            "\n",
            "The OptimUS library uses the Boundary Element Method to simulate acoustic wave propagation. Let us use a model with default settings."
         ]
      },
      {
         "cell_type": "code",
         "execution_count": 4,
         "metadata": {},
         "outputs": [],
         "source": [
            "model = optimus.model.create_default_model(source, geometry, material_ext, material_int)"
         ]
      },
      {
         "cell_type": "markdown",
         "metadata": {},
         "source": [
            "After creating the model, it needs to be solved to obtain the surface potentials at the material interface. Depending on the size of the model, this can be computationally expensive. The solution will be stored inside the model object."
         ]
      },
      {
         "cell_type": "code",
         "execution_count": 5,
         "metadata": {},
         "outputs": [],
         "source": [
            "model.solve()"
         ]
      },
      {
         "cell_type": "markdown",
         "metadata": {},
         "source": [
            "## Visualisation of the acoustic field\n",
            "\n",
            "The acoustic field can be calculated in arbitrary points. Let us visualize the field on a grid in the plane $z=0$."
         ]
      },
      {
         "cell_type": "code",
         "execution_count": 6,
         "metadata": {},
         "outputs": [],
         "source": [
            "postprocess_plane = optimus.postprocess.VisualisePlane(model)\n",
            "postprocess_plane.create_computational_grid(bounding_box=(-3, 5, -3, 3))\n",
            "postprocess_plane.compute_fields()"
         ]
      },
      {
         "cell_type": "markdown",
         "metadata": {},
         "source": [
            "Let us first visualise the incident field in the exterior domain."
         ]
      },
      {
         "cell_type": "code",
         "execution_count": 7,
         "metadata": {},
         "outputs": [
            {
               "ename": "ValueError",
               "evalue": "Undefined pressure field, options are total and scattered.",
               "output_type": "error",
               "traceback": [
                  "\u001b[0;31m---------------------------------------------------------------------------\u001b[0m",
                  "\u001b[0;31mValueError\u001b[0m                                Traceback (most recent call last)",
                  "\u001b[0;32m<ipython-input-7-d3221a162c46>\u001b[0m in \u001b[0;36m<module>\u001b[0;34m\u001b[0m\n\u001b[1;32m      1\u001b[0m \u001b[0mget_ipython\u001b[0m\u001b[0;34m(\u001b[0m\u001b[0;34m)\u001b[0m\u001b[0;34m.\u001b[0m\u001b[0mrun_line_magic\u001b[0m\u001b[0;34m(\u001b[0m\u001b[0;34m'matplotlib'\u001b[0m\u001b[0;34m,\u001b[0m \u001b[0;34m'inline'\u001b[0m\u001b[0;34m)\u001b[0m\u001b[0;34m\u001b[0m\u001b[0m\n\u001b[0;32m----> 2\u001b[0;31m \u001b[0mfigs\u001b[0m \u001b[0;34m=\u001b[0m \u001b[0moptimus\u001b[0m\u001b[0;34m.\u001b[0m\u001b[0mpostprocess\u001b[0m\u001b[0;34m.\u001b[0m\u001b[0mplot_pressure_field\u001b[0m\u001b[0;34m(\u001b[0m\u001b[0mpostprocess_plane\u001b[0m\u001b[0;34m,\u001b[0m \u001b[0mfield\u001b[0m\u001b[0;34m=\u001b[0m\u001b[0;34m\"incident\"\u001b[0m\u001b[0;34m,\u001b[0m \u001b[0mclim\u001b[0m\u001b[0;34m=\u001b[0m\u001b[0;34m(\u001b[0m\u001b[0;34m-\u001b[0m\u001b[0;36m2e6\u001b[0m\u001b[0;34m,\u001b[0m \u001b[0;36m2e6\u001b[0m\u001b[0;34m)\u001b[0m\u001b[0;34m)\u001b[0m\u001b[0;34m\u001b[0m\u001b[0m\n\u001b[0m",
                  "\u001b[0;32m/usr/local/lib/python3.5/dist-packages/optimus/postprocess/plot.py\u001b[0m in \u001b[0;36mplot_pressure_field\u001b[0;34m(postprocess_obj, field, unit, display_edges, clim)\u001b[0m\n\u001b[1;32m     42\u001b[0m         \u001b[0mpressure_field\u001b[0m \u001b[0;34m=\u001b[0m \u001b[0m_copy\u001b[0m\u001b[0;34m.\u001b[0m\u001b[0mdeepcopy\u001b[0m\u001b[0;34m(\u001b[0m\u001b[0mpostprocess_obj\u001b[0m\u001b[0;34m.\u001b[0m\u001b[0mscattered_field_imshow\u001b[0m\u001b[0;34m)\u001b[0m\u001b[0;34m\u001b[0m\u001b[0m\n\u001b[1;32m     43\u001b[0m     \u001b[0;32melse\u001b[0m\u001b[0;34m:\u001b[0m\u001b[0;34m\u001b[0m\u001b[0m\n\u001b[0;32m---> 44\u001b[0;31m         \u001b[0;32mraise\u001b[0m \u001b[0mValueError\u001b[0m\u001b[0;34m(\u001b[0m\u001b[0;34m\"Undefined pressure field, options are total and scattered.\"\u001b[0m\u001b[0;34m)\u001b[0m\u001b[0;34m\u001b[0m\u001b[0m\n\u001b[0m\u001b[1;32m     45\u001b[0m \u001b[0;34m\u001b[0m\u001b[0m\n\u001b[1;32m     46\u001b[0m     \u001b[0mscaling_factor\u001b[0m\u001b[0;34m,\u001b[0m \u001b[0mpressure_unit\u001b[0m \u001b[0;34m=\u001b[0m \u001b[0m_convert_pressure_unit\u001b[0m\u001b[0;34m(\u001b[0m\u001b[0munit\u001b[0m\u001b[0;34m)\u001b[0m\u001b[0;34m\u001b[0m\u001b[0m\n",
                  "\u001b[0;31mValueError\u001b[0m: Undefined pressure field, options are total and scattered."
               ]
            }
         ],
         "source": [
            "%matplotlib inline\n",
            "figs = optimus.postprocess.plot_pressure_field(postprocess_plane, field=\"incident\", clim=(-2e6, 2e6))"
         ]
      },
      {
         "cell_type": "markdown",
         "metadata": {},
         "source": [
            "The pressure field in the entire domain is as follows."
         ]
      },
      {
         "cell_type": "code",
         "execution_count": null,
         "metadata": {},
         "outputs": [],
         "source": [
            "%matplotlib inline\n",
            "figs = optimus.postprocess.plot_pressure_field(postprocess_plane, field=\"total\", clim=(-2e6, 2e6))"
         ]
      },
      {
         "cell_type": "code",
         "execution_count": null,
         "metadata": {},
         "outputs": [],
         "source": []
      }
   ],
   "metadata": {
      "kernelspec": {
         "display_name": "Python 3",
         "language": "python",
         "name": "python3"
      },
      "language_info": {
         "codemirror_mode": {
            "name": "ipython",
            "version": 3
         },
         "file_extension": ".py",
         "mimetype": "text/x-python",
         "name": "python",
         "nbconvert_exporter": "python",
         "pygments_lexer": "ipython3",
         "version": "3.5.2"
      }
   },
   "nbformat": 4,
   "nbformat_minor": 4
}