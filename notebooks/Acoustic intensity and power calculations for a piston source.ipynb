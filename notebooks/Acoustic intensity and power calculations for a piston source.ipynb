{
 "cells": [
  {
   "cell_type": "markdown",
   "metadata": {},
   "source": [
    "# Simulate acoustic wave propagation of a planar piston source\n",
    "\n",
    "The OptimUS library provides functionality to simulate acoustic wave propagation from a range of acoustic sources. This notebook demonstrates a simulation with a circular planar piston rigidly vibrating in an infinite baffle. Acoustic intensity and power calculations are carried out. Output quantities are compared with known analytical solutions. The piston velocity is scaled to produce the required acoustic power and the model is solved in the presence of a spherical scatterer."
   ]
  },
  {
   "cell_type": "markdown",
   "metadata": {},
   "source": [
    "## Import the OptimUS library\n",
    "\n",
    "Load the OptimUS library."
   ]
  },
  {
   "cell_type": "code",
   "execution_count": 1,
   "metadata": {},
   "outputs": [],
   "source": [
    "# Make sure the OptimUS library is in the Python path.\n",
    "import sys\n",
    "sys.path.append('..')"
   ]
  },
  {
   "cell_type": "code",
   "execution_count": 2,
   "metadata": {},
   "outputs": [],
   "source": [
    "import optimus"
   ]
  },
  {
   "cell_type": "markdown",
   "metadata": {},
   "source": [
    "## Specify a circular planar piston as acoustic source\n",
    "\n",
    "The OptimUS library provides different predefined wave fields, among which is a circular planar piston source radiating in 2*pi space. The piston requires the frequency, outer radius and radius of curvature to be specified and, optionally, the source axis, the velocity amplitude and its location, which is in this case at [0, 0, 0], all units are in the SI system. We initially set the velocity of the piston source to unity (1 m/s) and compute the radiated power. Then we will compare this value with a desired acoustic power, let's say 0.1 W to estimate the source velocity needed to generate this desired acoustic power."
   ]
  },
  {
   "cell_type": "code",
   "execution_count": 3,
   "metadata": {},
   "outputs": [],
   "source": [
    "frequency = 1e6\n",
    "piston_radius = 0.01\n",
    "location = (0, 0, 0)\n",
    "velocity = 1.0\n",
    "source = optimus.source.create_piston(frequency, radius=piston_radius, location=location, source_axis=(1, 0, 0),\n",
    "                                      velocity=velocity, number_of_point_sources_per_wavelength=24)"
   ]
  },
  {
   "cell_type": "markdown",
   "metadata": {},
   "source": [
    "## Specify the physical settings for the simulation\n",
    "\n",
    "Let us consider acoustic waves are propagating in an unbounded region of non-attenuating water."
   ]
  },
  {
   "cell_type": "code",
   "execution_count": 4,
   "metadata": {},
   "outputs": [],
   "source": [
    "material_ext = optimus.material.create_material(name='water-no-attenuation',\n",
    "                                                density=1000,\n",
    "                                                speed_of_sound=1500)"
   ]
  },
  {
   "cell_type": "code",
   "execution_count": 5,
   "metadata": {},
   "outputs": [
    {
     "name": "stdout",
     "output_type": "stream",
     "text": [
      "                 name  density  speed_of_sound  attenuation_coeff_a  attenuation_pow_b\n",
      " water-no-attenuation   1000.0          1500.0                  0.0                0.0\n"
     ]
    }
   ],
   "source": [
    "material_ext.print()"
   ]
  },
  {
   "cell_type": "markdown",
   "metadata": {},
   "source": [
    "## Calculating the wavelength in the exterior medium"
   ]
  },
  {
   "cell_type": "code",
   "execution_count": 6,
   "metadata": {},
   "outputs": [],
   "source": [
    "import numpy as np\n",
    "k = material_ext.compute_wavenumber(frequency)\n",
    "lambd = np.real(2 * np.pi / np.abs(k))"
   ]
  },
  {
   "cell_type": "markdown",
   "metadata": {},
   "source": [
    "## Obtain coordinates of points in a line parallel to the surface of the piston source, i.e. the $z$ axis, and in the farfield, e.g. passing through $x$ = 10 mm\n",
    "\n",
    "This is for obtaining the acoustic power."
   ]
  },
  {
   "cell_type": "code",
   "execution_count": 7,
   "metadata": {},
   "outputs": [],
   "source": [
    "x_offset = 10.0e-3\n",
    "y_offset = 0.0\n",
    "zmin = 0.0\n",
    "zmax = 15 * piston_radius\n",
    "nz = int(zmax / lambd * 24)  # 24 points per wavelength\n",
    "x_field = x_offset * np.ones(nz)\n",
    "y_field = y_offset * np.ones(nz)\n",
    "z_field = np.linspace(zmin, zmax, nz)\n",
    "points = np.array((np.row_stack((x_field, y_field, z_field))))"
   ]
  },
  {
   "cell_type": "markdown",
   "metadata": {},
   "source": [
    "## Generate unit normals at points on integration line"
   ]
  },
  {
   "cell_type": "code",
   "execution_count": 8,
   "metadata": {},
   "outputs": [],
   "source": [
    "normals = np.zeros((3, points.shape[1]), dtype=float)\n",
    "normals[0, :] = np.ones(points.shape[1], dtype=float)"
   ]
  },
  {
   "cell_type": "markdown",
   "metadata": {},
   "source": [
    "## Calculate the incident field on a disc whose radius is 15 times the piston radius\n",
    "\n",
    "Retrieve the incident pressure and calculate the particle velocity in along the $x$ direction. Calculate the $x$ component of the acoustic intensity."
   ]
  },
  {
   "cell_type": "code",
   "execution_count": 9,
   "metadata": {},
   "outputs": [
    {
     "name": "stdout",
     "output_type": "stream",
     "text": [
      "Number of point sources across element diameter: 320\n",
      "Number of point sources in transducer: 79900\n",
      "Parallelisation method: multiprocessing\n",
      "Parallelisation of incident field calculation over source locations\n"
     ]
    }
   ],
   "source": [
    "from optimus.source.transducers import transducer_field\n",
    "inc_field = transducer_field(source, material_ext, points, normals=normals, verbose=True)\n",
    "p_inc = inc_field.pressure\n",
    "u_inc = inc_field.normal_pressure_gradient / (1j * 2 * np.pi * frequency * material_ext.density)\n",
    "Ix = np.real(0.25 * (p_inc * np.conj(u_inc) + np.conj(p_inc) * u_inc))"
   ]
  },
  {
   "cell_type": "markdown",
   "metadata": {},
   "source": [
    "## Plot the acoustic intensity along the radius of the disc over which the field is to be integrated"
   ]
  },
  {
   "cell_type": "code",
   "execution_count": 10,
   "metadata": {},
   "outputs": [
    {
     "data": {
      "image/png": "[encoded data removed]",
      "text/plain": [
       "<Figure size 432x288 with 1 Axes>"
      ]
     },
     "metadata": {
      "needs_background": "light"
     },
     "output_type": "display_data"
    }
   ],
   "source": [
    "from matplotlib import pylab as plt\n",
    "%matplotlib inline\n",
    "plt.plot(points[2], Ix)\n",
    "plt.xlabel('Radial distance (m)')\n",
    "plt.ylabel('Acoustic intensity (W/$m^{-2}$)')\n",
    "plt.show()"
   ]
  },
  {
   "cell_type": "markdown",
   "metadata": {},
   "source": [
    "## Calculate acoustic power per unit velocity\n",
    "\n",
    "Say we require an acoustic power of 0.1 W. Let us calculate the piston velocity to produce this output power."
   ]
  },
  {
   "cell_type": "code",
   "execution_count": 11,
   "metadata": {},
   "outputs": [
    {
     "name": "stdout",
     "output_type": "stream",
     "text": [
      "The required piston velocity to generate  0.1 W of acoustic power is:\n",
      " 235.03395997356037 m/s\n"
     ]
    }
   ],
   "source": [
    "power_at_unit_velocity = 2 * np.pi * np.sum(Ix * points[2]) * points[2, 1]\n",
    "\n",
    "# Required acoustic power\n",
    "power_desired = 0.1\n",
    "\n",
    "# Calculate velocity to produce required power\n",
    "piston_velocity = np.sqrt(power_desired / power_at_unit_velocity)\n",
    "print('The required piston velocity to generate ', power_desired ,\n",
    "      'W of acoustic power is:\\n',power_at_unit_velocity, 'm/s')"
   ]
  },
  {
   "cell_type": "markdown",
   "metadata": {},
   "source": [
    "## Check that the calculated piston velocity is in agreement with the analytical solution\n",
    "\n",
    "http://www.silcom.com/~aludwig/Physics/Exact_piston/Exact_piston.htm"
   ]
  },
  {
   "cell_type": "code",
   "execution_count": 12,
   "metadata": {},
   "outputs": [
    {
     "name": "stdout",
     "output_type": "stream",
     "text": [
      "Estimated velocity to produce  0.1  W of acoustic power:  0.0206220534984332 m/s\n",
      "Analytical value of velocity which produces  0.1  W of acoustic power:  0.020626934574436383 m/s\n",
      "Percentage difference with analytical solution:  0.023663603457752293 %\n"
     ]
    }
   ],
   "source": [
    "import scipy as sp\n",
    "piston_velocity_check = np.sqrt( 2 * power_desired / \n",
    "                                (np.pi * piston_radius ** 2 * material_ext.density * material_ext.speed_of_sound\n",
    "                                * (1 - 2 * sp.special.jv(1, 2 * k * piston_radius) / (2 * k * piston_radius))))\n",
    "print('Estimated velocity to produce ', power_desired, \n",
    "      ' W of acoustic power: ', np.real(piston_velocity_check), 'm/s')\n",
    "print('Analytical value of velocity which produces ', power_desired, \n",
    "      ' W of acoustic power: ', piston_velocity, 'm/s')\n",
    "print('Percentage difference with analytical solution: ', \n",
    "      100 * np.linalg.norm((piston_velocity_check - piston_velocity) / piston_velocity),\n",
    "      '%')"
   ]
  },
  {
   "cell_type": "markdown",
   "metadata": {},
   "source": [
    "## Check that the power is in agreement with the analytical solution"
   ]
  },
  {
   "cell_type": "code",
   "execution_count": 13,
   "metadata": {},
   "outputs": [
    {
     "name": "stdout",
     "output_type": "stream",
     "text": [
      "Required acoustic power:  0.1  W\n",
      "Analytical value of power produced by estimated velocity: (0.10004734401120127+4.051170692198562e-21j)  W\n",
      "Percentage difference with analytical solution:  0.047344011201266856 %\n"
     ]
    }
   ],
   "source": [
    "bessel_func_term = sp.special.jv(1, 2 * k * piston_radius) / (2 * k * piston_radius)\n",
    "power_check = 0.5 * piston_velocity ** 2 * np.pi * piston_radius ** 2 * material_ext.density * \\\n",
    "              material_ext.speed_of_sound * (1 - 2 * bessel_func_term)\n",
    "print('Required acoustic power: ', power_desired, ' W')\n",
    "print('Analytical value of power produced by estimated velocity:', power_check, ' W')\n",
    "print('Percentage difference with analytical solution: ', \n",
    "      100 * np.linalg.norm((power_check - power_desired) / power_desired), \n",
    "      '%')"
   ]
  },
  {
   "cell_type": "markdown",
   "metadata": {},
   "source": [
    "## Assign velocity to piston source to produce required power and visualise the field"
   ]
  },
  {
   "cell_type": "code",
   "execution_count": 14,
   "metadata": {},
   "outputs": [],
   "source": [
    "source.velocity = piston_velocity"
   ]
  },
  {
   "cell_type": "markdown",
   "metadata": {},
   "source": [
    "## Visualisation of the acoustic field\n",
    "\n",
    "Let us visualise the total pressure field on a grid in the plane $z$=0. To do so, we need to create the visualisation grid first using `optimus.utils.mesh.create_grid_points` function. This function takes the no. of points along axes of a 2D plane (here $x$ and $y$ axes), the limits of the plane along each axis, the axes of the plane and the output mode (numpy: to return ndarray, gmsh: to return gmsh grid)."
   ]
  },
  {
   "cell_type": "code",
   "execution_count": 15,
   "metadata": {},
   "outputs": [],
   "source": [
    "grid_resolution = (101,101)\n",
    "grid_lims = (0.005, 0.12, -2 * piston_radius, 2 * piston_radius)\n",
    "points_vis = optimus.utils.mesh.create_grid_points(resolution=grid_resolution,\n",
    "                                                   plane_axes=(0,1),\n",
    "                                                   plane_offset=0,\n",
    "                                                   bounding_box=grid_lims,\n",
    "                                                   mode=\"numpy\")"
   ]
  },
  {
   "cell_type": "code",
   "execution_count": null,
   "metadata": {},
   "outputs": [
    {
     "name": "stdout",
     "output_type": "stream",
     "text": [
      "Number of point sources across element diameter: 320\n",
      "Number of point sources in transducer: 79900\n",
      "Parallelisation method: multiprocessing\n",
      "Parallelisation of incident field calculation over source locations\n"
     ]
    }
   ],
   "source": [
    "inc_field_desired = transducer_field(source, material_ext, points_vis[0], verbose=True)"
   ]
  },
  {
   "cell_type": "code",
   "execution_count": null,
   "metadata": {},
   "outputs": [],
   "source": [
    "p_inc_plt = np.abs(inc_field_desired.pressure.reshape(grid_resolution)).T/1E3\n",
    "fig = optimus.postprocess.plot.surface_plot(p_inc_plt,\n",
    "                                      axes_lims=grid_lims,\n",
    "                                      axes_labels=[\"x [m]\",\"y [m]\"],\n",
    "                                      colormap=\"viridis\",\n",
    "                                      colormap_lims=[0,np.max(abs(p_inc_plt))],\n",
    "                                      colorbar_unit=\"$P_{inc}$ [kPa]\",\n",
    "                                      domains_edges=None)"
   ]
  },
  {
   "cell_type": "code",
   "execution_count": null,
   "metadata": {},
   "outputs": [],
   "source": []
  }
 ],
 "metadata": {
  "kernelspec": {
   "display_name": "Python 3",
   "language": "python",
   "name": "python3"
  },
  "language_info": {
   "codemirror_mode": {
    "name": "ipython",
    "version": 3
   },
   "file_extension": ".py",
   "mimetype": "text/x-python",
   "name": "python",
   "nbconvert_exporter": "python",
   "pygments_lexer": "ipython3",
   "version": "3.5.2"
  }
 },
 "nbformat": 4,
 "nbformat_minor": 4
}
