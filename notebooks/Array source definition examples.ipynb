{
 "cells": [
  {
   "cell_type": "markdown",
   "metadata": {},
   "source": [
    "# Simulate acoustic wave propagation of an array source\n",
    "\n",
    "\n",
    "The OptimUS library provides functionality to simulate acoustic wave propagation in unbounded domains with homogeneous scatterers. This notebook showcases the basic functionality to define array sources.\n"
   ]
  },
  {
   "cell_type": "markdown",
   "metadata": {},
   "source": [
    "## Import the OptimUS library\n",
    "\n",
    "Load the OptimUS library. Make sure the source code is in the Python path."
   ]
  },
  {
   "cell_type": "code",
   "execution_count": 1,
   "metadata": {},
   "outputs": [],
   "source": [
    "# Make sure the OptimUS library is in the Python path.\n",
    "import sys\n",
    "sys.path.append('..')"
   ]
  },
  {
   "cell_type": "code",
   "execution_count": 2,
   "metadata": {},
   "outputs": [],
   "source": [
    "import optimus\n",
    "import numpy as np"
   ]
  },
  {
   "cell_type": "code",
   "execution_count": 3,
   "metadata": {},
   "outputs": [
    {
     "name": "stdout",
     "output_type": "stream",
     "text": [
      "OptimUS version: 0.0.0\n"
     ]
    }
   ],
   "source": [
    "print(\"OptimUS version:\", optimus.__version__)"
   ]
  },
  {
   "cell_type": "markdown",
   "metadata": {},
   "source": [
    "## Specify the array parameters\n",
    "\n",
    "The OptimUS library provides functionality to simulate acoustic wave propagation. For each simulation, one needs to specify the type of source of the acoustic field, the geometry of the scatterer, and the material parameters."
   ]
  },
  {
   "cell_type": "markdown",
   "metadata": {},
   "source": [
    "The OptimUS library provides different predefined wave fields, among which is a multi-element array source radiating in 2*pi space. The array requires the frequency, the element radius and the locations of the centroids of the circular piston elements. The radius of curvature is inferred from the centroid locations. Optionally, the source axis, the piston velocities and the source location may be specified."
   ]
  },
  {
   "cell_type": "code",
   "execution_count": 4,
   "metadata": {},
   "outputs": [],
   "source": [
    "frequency = 1e6\n",
    "a=3e-3\n",
    "centroid_file='default_random_array_centroid_locations.dat'"
   ]
  },
  {
   "cell_type": "markdown",
   "metadata": {},
   "source": [
    "### Load centroid locations using file"
   ]
  },
  {
   "cell_type": "code",
   "execution_count": 5,
   "metadata": {},
   "outputs": [],
   "source": [
    "source = optimus.source.create_array(frequency, element_radius=a, centroid_locations_filename=centroid_file)"
   ]
  },
  {
   "cell_type": "markdown",
   "metadata": {},
   "source": [
    "### Specify velocity as a scalar. A spherical focusing velocity vector is created from this value so that all elements vibrate in phase at 0.4 m/s."
   ]
  },
  {
   "cell_type": "code",
   "execution_count": null,
   "metadata": {},
   "outputs": [],
   "source": [
    "velocity = 0.4\n",
    "source = optimus.source.create_array(frequency, element_radius=a, centroid_locations_filename=centroid_file,\n",
    "                                     velocity=velocity)"
   ]
  },
  {
   "cell_type": "markdown",
   "metadata": {},
   "source": [
    "### Specify velocity vector as an array."
   ]
  },
  {
   "cell_type": "code",
   "execution_count": null,
   "metadata": {},
   "outputs": [],
   "source": [
    "rand_velocity = np.random.rand(256) + 1j * np.random.rand(256)\n",
    "source = optimus.source.create_array(frequency, element_radius=a, centroid_locations_filename=centroid_file,\n",
    "                                     velocity=rand_velocity)"
   ]
  },
  {
   "cell_type": "markdown",
   "metadata": {},
   "source": [
    "### Centroid locations which do not lie on a sphere are specified. This raises a value error."
   ]
  },
  {
   "cell_type": "code",
   "execution_count": 14,
   "metadata": {},
   "outputs": [
    {
     "ename": "ValueError",
     "evalue": "Array element centroid locations do not appear to lie on a sphere.",
     "output_type": "error",
     "traceback": [
      "\u001b[0;31m---------------------------------------------------------------------------\u001b[0m",
      "\u001b[0;31mValueError\u001b[0m                                Traceback (most recent call last)",
      "\u001b[0;32m<ipython-input-14-439fe6768456>\u001b[0m in \u001b[0;36m<module>\u001b[0;34m\u001b[0m\n\u001b[1;32m      1\u001b[0m \u001b[0mrand_centroid_locations\u001b[0m \u001b[0;34m=\u001b[0m \u001b[0mnp\u001b[0m\u001b[0;34m.\u001b[0m\u001b[0mrandom\u001b[0m\u001b[0;34m.\u001b[0m\u001b[0mrand\u001b[0m\u001b[0;34m(\u001b[0m\u001b[0;36m3\u001b[0m\u001b[0;34m,\u001b[0m\u001b[0;36m256\u001b[0m\u001b[0;34m)\u001b[0m\u001b[0;34m\u001b[0m\u001b[0m\n\u001b[0;32m----> 2\u001b[0;31m \u001b[0msource\u001b[0m \u001b[0;34m=\u001b[0m \u001b[0moptimus\u001b[0m\u001b[0;34m.\u001b[0m\u001b[0msource\u001b[0m\u001b[0;34m.\u001b[0m\u001b[0mcreate_array\u001b[0m\u001b[0;34m(\u001b[0m\u001b[0mfrequency\u001b[0m\u001b[0;34m,\u001b[0m \u001b[0melement_radius\u001b[0m\u001b[0;34m=\u001b[0m\u001b[0ma\u001b[0m\u001b[0;34m,\u001b[0m \u001b[0mcentroid_locations\u001b[0m\u001b[0;34m=\u001b[0m\u001b[0mrand_centroid_locations\u001b[0m\u001b[0;34m)\u001b[0m\u001b[0;34m\u001b[0m\u001b[0m\n\u001b[0m",
      "\u001b[0;32m~/localwork/optimus/source/array.py\u001b[0m in \u001b[0;36mcreate_array\u001b[0;34m(frequency, element_radius, velocity, source_axis, number_of_point_sources_per_wavelength, location, centroid_locations, centroid_locations_filename)\u001b[0m\n\u001b[1;32m     69\u001b[0m         \u001b[0mlocation\u001b[0m\u001b[0;34m,\u001b[0m\u001b[0;34m\u001b[0m\u001b[0m\n\u001b[1;32m     70\u001b[0m         \u001b[0mcentroid_locations\u001b[0m\u001b[0;34m,\u001b[0m\u001b[0;34m\u001b[0m\u001b[0m\n\u001b[0;32m---> 71\u001b[0;31m         \u001b[0mcentroid_locations_filename\u001b[0m\u001b[0;34m,\u001b[0m\u001b[0;34m\u001b[0m\u001b[0m\n\u001b[0m\u001b[1;32m     72\u001b[0m     )\n\u001b[1;32m     73\u001b[0m \u001b[0;34m\u001b[0m\u001b[0m\n",
      "\u001b[0;32m~/localwork/optimus/source/array.py\u001b[0m in \u001b[0;36m__init__\u001b[0;34m(self, frequency, element_radius, velocity, source_axis, number_of_point_sources_per_wavelength, location, centroid_locations, centroid_locations_filename)\u001b[0m\n\u001b[1;32m    113\u001b[0m \u001b[0;34m\u001b[0m\u001b[0m\n\u001b[1;32m    114\u001b[0m         self.radius_of_curvature = self._calc_radius_of_curvature(\n\u001b[0;32m--> 115\u001b[0;31m             \u001b[0mself\u001b[0m\u001b[0;34m.\u001b[0m\u001b[0mcentroid_locations\u001b[0m\u001b[0;34m\u001b[0m\u001b[0m\n\u001b[0m\u001b[1;32m    116\u001b[0m         )\n\u001b[1;32m    117\u001b[0m \u001b[0;34m\u001b[0m\u001b[0m\n",
      "\u001b[0;32m~/localwork/optimus/source/array.py\u001b[0m in \u001b[0;36m_calc_radius_of_curvature\u001b[0;34m(self, centroid_locations)\u001b[0m\n\u001b[1;32m    181\u001b[0m         \u001b[0;32mif\u001b[0m \u001b[0mcentroid_locations_l2_norm_std\u001b[0m \u001b[0;34m>\u001b[0m \u001b[0mradius_of_curvature_tol\u001b[0m\u001b[0;34m:\u001b[0m\u001b[0;34m\u001b[0m\u001b[0m\n\u001b[1;32m    182\u001b[0m             raise ValueError(\n\u001b[0;32m--> 183\u001b[0;31m                 \u001b[0;34m\"Array element centroid locations do not appear to lie on a sphere.\"\u001b[0m\u001b[0;34m\u001b[0m\u001b[0m\n\u001b[0m\u001b[1;32m    184\u001b[0m             )\n\u001b[1;32m    185\u001b[0m \u001b[0;34m\u001b[0m\u001b[0m\n",
      "\u001b[0;31mValueError\u001b[0m: Array element centroid locations do not appear to lie on a sphere."
     ]
    }
   ],
   "source": [
    "rand_centroid_locations = np.random.rand(3,256)\n",
    "source = optimus.source.create_array(frequency, element_radius=a, centroid_locations=rand_centroid_locations)"
   ]
  },
  {
   "cell_type": "markdown",
   "metadata": {},
   "source": [
    "### Centroid locations and the centroid locations filename are specified. This raises a value error."
   ]
  },
  {
   "cell_type": "code",
   "execution_count": 16,
   "metadata": {},
   "outputs": [
    {
     "ename": "ValueError",
     "evalue": "Specify either the centroid locations or the centroid locations filename.",
     "output_type": "error",
     "traceback": [
      "\u001b[0;31m---------------------------------------------------------------------------\u001b[0m",
      "\u001b[0;31mValueError\u001b[0m                                Traceback (most recent call last)",
      "\u001b[0;32m<ipython-input-16-a8b5ad0f9b92>\u001b[0m in \u001b[0;36m<module>\u001b[0;34m\u001b[0m\n\u001b[1;32m      1\u001b[0m \u001b[0mcentroid_locations\u001b[0m \u001b[0;34m=\u001b[0m \u001b[0mnp\u001b[0m\u001b[0;34m.\u001b[0m\u001b[0mloadtxt\u001b[0m\u001b[0;34m(\u001b[0m\u001b[0mcentroid_file\u001b[0m\u001b[0;34m)\u001b[0m\u001b[0;34m\u001b[0m\u001b[0m\n\u001b[1;32m      2\u001b[0m source = optimus.source.create_array(frequency, element_radius=a, centroid_locations=centroid_locations,\n\u001b[0;32m----> 3\u001b[0;31m                                      centroid_locations_filename=centroid_file)\n\u001b[0m",
      "\u001b[0;32m~/localwork/optimus/source/array.py\u001b[0m in \u001b[0;36mcreate_array\u001b[0;34m(frequency, element_radius, velocity, source_axis, number_of_point_sources_per_wavelength, location, centroid_locations, centroid_locations_filename)\u001b[0m\n\u001b[1;32m     69\u001b[0m         \u001b[0mlocation\u001b[0m\u001b[0;34m,\u001b[0m\u001b[0;34m\u001b[0m\u001b[0m\n\u001b[1;32m     70\u001b[0m         \u001b[0mcentroid_locations\u001b[0m\u001b[0;34m,\u001b[0m\u001b[0;34m\u001b[0m\u001b[0m\n\u001b[0;32m---> 71\u001b[0;31m         \u001b[0mcentroid_locations_filename\u001b[0m\u001b[0;34m,\u001b[0m\u001b[0;34m\u001b[0m\u001b[0m\n\u001b[0m\u001b[1;32m     72\u001b[0m     )\n\u001b[1;32m     73\u001b[0m \u001b[0;34m\u001b[0m\u001b[0m\n",
      "\u001b[0;32m~/localwork/optimus/source/array.py\u001b[0m in \u001b[0;36m__init__\u001b[0;34m(self, frequency, element_radius, velocity, source_axis, number_of_point_sources_per_wavelength, location, centroid_locations, centroid_locations_filename)\u001b[0m\n\u001b[1;32m    103\u001b[0m \u001b[0;34m\u001b[0m\u001b[0m\n\u001b[1;32m    104\u001b[0m         self.centroid_locations = self._calc_centroid_locations(\n\u001b[0;32m--> 105\u001b[0;31m             \u001b[0mcentroid_locations\u001b[0m\u001b[0;34m,\u001b[0m \u001b[0mcentroid_locations_filename\u001b[0m\u001b[0;34m\u001b[0m\u001b[0m\n\u001b[0m\u001b[1;32m    106\u001b[0m         )\n\u001b[1;32m    107\u001b[0m \u001b[0;34m\u001b[0m\u001b[0m\n",
      "\u001b[0;32m~/localwork/optimus/source/array.py\u001b[0m in \u001b[0;36m_calc_centroid_locations\u001b[0;34m(self, centroid_locations, centroid_locations_filename)\u001b[0m\n\u001b[1;32m    138\u001b[0m             raise ValueError(\n\u001b[1;32m    139\u001b[0m                 \u001b[0;34m\"Specify either the centroid locations or the centroid locations \"\u001b[0m\u001b[0;34m\u001b[0m\u001b[0m\n\u001b[0;32m--> 140\u001b[0;31m                 \u001b[0;34m+\u001b[0m \u001b[0;34m\"filename.\"\u001b[0m\u001b[0;34m\u001b[0m\u001b[0m\n\u001b[0m\u001b[1;32m    141\u001b[0m             )\n\u001b[1;32m    142\u001b[0m         \u001b[0;32melif\u001b[0m \u001b[0mcentroid_locations\u001b[0m \u001b[0;32mis\u001b[0m \u001b[0;32mnot\u001b[0m \u001b[0;32mNone\u001b[0m \u001b[0;32mand\u001b[0m \u001b[0mcentroid_locations_filename\u001b[0m \u001b[0;32mis\u001b[0m \u001b[0;32mNone\u001b[0m\u001b[0;34m:\u001b[0m\u001b[0;34m\u001b[0m\u001b[0m\n",
      "\u001b[0;31mValueError\u001b[0m: Specify either the centroid locations or the centroid locations filename."
     ]
    }
   ],
   "source": [
    "centroid_locations = np.loadtxt(centroid_file)\n",
    "source = optimus.source.create_array(frequency, element_radius=a, centroid_locations=centroid_locations,\n",
    "                                     centroid_locations_filename=centroid_file)"
   ]
  },
  {
   "cell_type": "code",
   "execution_count": null,
   "metadata": {},
   "outputs": [],
   "source": []
  }
 ],
 "metadata": {
  "kernelspec": {
   "display_name": "Python 3",
   "language": "python",
   "name": "python3"
  },
  "language_info": {
   "codemirror_mode": {
    "name": "ipython",
    "version": 3
   },
   "file_extension": ".py",
   "mimetype": "text/x-python",
   "name": "python",
   "nbconvert_exporter": "python",
   "pygments_lexer": "ipython3",
   "version": "3.5.2"
  }
 },
 "nbformat": 4,
 "nbformat_minor": 4
}
