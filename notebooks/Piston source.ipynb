{
 "cells": [
  {
   "cell_type": "markdown",
   "metadata": {},
   "source": [
    "# Simulate acoustic wave propagation of a plane circular piston\n",
    "\n",
    "\n",
    "The OptimUS library provides functionality to simulate acoustic wave propagation in unbounded domains with homogeneous scatterers. This notebook showcases the basic functionality to perform acoustic simulations. The simulation consists of plane circular piston in an unbounded water region and a spherical scatterer resembling bone.\n"
   ]
  },
  {
   "cell_type": "markdown",
   "metadata": {},
   "source": [
    "## Import the OptimUS library\n",
    "\n",
    "Load the OptimUS library. Make sure the source code is in the Python path."
   ]
  },
  {
   "cell_type": "code",
   "execution_count": 1,
   "metadata": {},
   "outputs": [],
   "source": [
    "# Make sure the OptimUS library is in the Python path.\n",
    "import sys\n",
    "sys.path.append('..')"
   ]
  },
  {
   "cell_type": "code",
   "execution_count": 2,
   "metadata": {},
   "outputs": [],
   "source": [
    "import optimus"
   ]
  },
  {
   "cell_type": "code",
   "execution_count": 3,
   "metadata": {},
   "outputs": [
    {
     "name": "stdout",
     "output_type": "stream",
     "text": [
      "OptimUS version: 0.0.0\n"
     ]
    }
   ],
   "source": [
    "print(\"OptimUS version:\", optimus.__version__)"
   ]
  },
  {
   "cell_type": "markdown",
   "metadata": {},
   "source": [
    "## Specify the physical settings for the simulation\n",
    "\n",
    "The OptimUS library provides functionality to simulate acoustic wave propagation. For each simulation, one needs to specify the type of source of the acoustic field, the geometry of the scatterer, and the material parameters."
   ]
  },
  {
   "cell_type": "markdown",
   "metadata": {},
   "source": [
    "The OptimUS library provides different predefined wave fields, among which is a plane circular piston radiating in 2*pi space. The piston requires the frequency to be specified and, optionally, the source axis, the velocity and its location, which is in this case at [-4, 0, 0]."
   ]
  },
  {
   "cell_type": "code",
   "execution_count": 4,
   "metadata": {},
   "outputs": [],
   "source": [
    "frequency = 1000\n",
    "radius = 1\n",
    "location = [-4, 0, 0]\n",
    "source = optimus.source.create_piston(frequency, radius=radius, location=location)"
   ]
  },
  {
   "cell_type": "markdown",
   "metadata": {},
   "source": [
    "Several canonical shapes for scatterers are available in the OptimUS library. Let us use a spherical geometry, by default centered at the origin and unit radius. It is recommended to specify the meshwidth of the triangular surface grid that represents the geometry's surface. A lower value of `h` increases the precision of the algorithm but also the computational costs."
   ]
  },
  {
   "cell_type": "code",
   "execution_count": 5,
   "metadata": {},
   "outputs": [],
   "source": [
    "geometry = optimus.geometry.shapes.Sphere(h=0.4)"
   ]
  },
  {
   "cell_type": "markdown",
   "metadata": {},
   "source": [
    "The exterior medium will be water and the interior medium bone. Default parameters of several materials can be retrieved from OptimUS. Alternatively, the user can create a material with specific values for density and wavespeed."
   ]
  },
  {
   "cell_type": "code",
   "execution_count": 6,
   "metadata": {},
   "outputs": [],
   "source": [
    "material_ext = optimus.material.load_material('water')\n",
    "material_int = optimus.material.load_material('bone')"
   ]
  },
  {
   "cell_type": "markdown",
   "metadata": {},
   "source": [
    "## Simulate the wave model\n",
    "\n",
    "The OptimUS library uses the Boundary Element Method to simulate acoustic wave propagation. A model with default settings can be used. Alternatively, other boundary integral formulations and preconditioners can be chosen or specified manually.\n",
    "\n",
    "Each model requires a source and geometry object, as well as the material parameters of the unbounded exterior domain and the bounded interior domain."
   ]
  },
  {
   "cell_type": "code",
   "execution_count": null,
   "metadata": {},
   "outputs": [],
   "source": [
    "model = optimus.model.create_default_model(source, geometry, material_ext, material_int)"
   ]
  },
  {
   "cell_type": "markdown",
   "metadata": {},
   "source": [
    "After creating the model, it needs to be solved to obtain the surface potentials at the material interface. Depending on the size of the model, this can be computationally expensive. The solution will be stored inside the model object."
   ]
  },
  {
   "cell_type": "code",
   "execution_count": null,
   "metadata": {},
   "outputs": [],
   "source": [
    "model.solve()"
   ]
  },
  {
   "cell_type": "markdown",
   "metadata": {},
   "source": [
    "## Visualisation of the acoustic field\n",
    "\n",
    "The acoustic field can be calculated in arbitrary points. Let us visualize the field on a grid in the plane $z=0$."
   ]
  },
  {
   "cell_type": "code",
   "execution_count": null,
   "metadata": {},
   "outputs": [],
   "source": [
    "import bempp.api\n",
    "import numpy as np\n",
    "from optimus.source.transducers import transducer_field\n",
    "from matplotlib import pylab as plt"
   ]
  },
  {
   "cell_type": "code",
   "execution_count": null,
   "metadata": {},
   "outputs": [],
   "source": [
    "# Create a visualisation grid\n",
    "Nx = 100\n",
    "Ny = 100\n",
    "xmin, xmax, ymin, ymax = [-3, 3, -3, 3]\n",
    "zval = 0.0\n",
    "plot_grid = np.mgrid[xmin:xmax:Nx * 1j, ymin:ymax:Ny * 1j]\n",
    "points = np.vstack((plot_grid[0].ravel(),\n",
    "                    plot_grid[1].ravel(),\n",
    "                    zval*np.ones(plot_grid[0].size)))\n",
    "\n",
    "# Define the interior and exterior points\n",
    "x, y = points[:2]\n",
    "idx_ext = np.sqrt(x**2 + y**2) > 1.0\n",
    "idx_int = np.logical_not(idx_ext)\n",
    "points_exterior = points[:, idx_ext]\n",
    "points_interior = points[:, idx_int]"
   ]
  },
  {
   "cell_type": "markdown",
   "metadata": {},
   "source": [
    "The incident pressure field is computed at the required locations to calculate the total field"
   ]
  },
  {
   "cell_type": "code",
   "execution_count": null,
   "metadata": {},
   "outputs": [],
   "source": [
    "inc_field = transducer_field(source, material_ext, points)\n",
    "incident_pressure = inc_field.pressure"
   ]
  },
  {
   "cell_type": "markdown",
   "metadata": {},
   "source": [
    "Calculate the fields from the surface potential with the potential operators."
   ]
  },
  {
   "cell_type": "code",
   "execution_count": null,
   "metadata": {},
   "outputs": [],
   "source": [
    "slp_pot_int = bempp.api.operators.potential.helmholtz.single_layer(\n",
    "    model.space, points_interior, material_int.wavenumber(source.frequency))\n",
    "slp_pot_ext = bempp.api.operators.potential.helmholtz.single_layer(\n",
    "    model.space, points_exterior, material_ext.wavenumber(source.frequency))\n",
    "dlp_pot_int = bempp.api.operators.potential.helmholtz.double_layer(\n",
    "    model.space, points_interior, material_int.wavenumber(source.frequency))\n",
    "dlp_pot_ext = bempp.api.operators.potential.helmholtz.double_layer(\n",
    "    model.space, points_exterior, material_ext.wavenumber(source.frequency))\n",
    "\n",
    "surfpot_dir_ext, surfpot_neu_ext = model.solution\n",
    "surfpot_dir_int = surfpot_dir_ext\n",
    "surfpot_neu_int = (material_int.density / material_ext.density) * surfpot_neu_ext\n",
    "total_field_int = (slp_pot_int * surfpot_neu_int\n",
    "                   - dlp_pot_int * surfpot_dir_int).ravel()\n",
    "total_field_ext = (dlp_pot_ext * surfpot_dir_ext \n",
    "                   - slp_pot_ext * surfpot_neu_ext).ravel() + incident_pressure[idx_ext]  \n",
    "\n",
    "total_field = np.zeros(points.shape[1], dtype='complex128')\n",
    "total_field[idx_ext] = total_field_ext\n",
    "total_field[idx_int] = total_field_int\n",
    "total_field = total_field.reshape([Nx, Ny])"
   ]
  },
  {
   "cell_type": "markdown",
   "metadata": {},
   "source": [
    "### Visualisation of real part of total field"
   ]
  },
  {
   "cell_type": "code",
   "execution_count": null,
   "metadata": {},
   "outputs": [],
   "source": [
    "fig = plt.figure(figsize=(10, 8))\n",
    "plt.imshow(np.real(total_field.T), extent=[xmin, xmax, ymin, ymax], clim=[-2e6,2e6], cmap='seismic')\n",
    "theta = np.linspace(0, 2*np.pi, 100)\n",
    "plt.plot(np.cos(theta), np.sin(theta), 'k')\n",
    "plt.xlabel('x')\n",
    "plt.ylabel('y')\n",
    "plt.colorbar()\n",
    "plt.show()"
   ]
  },
  {
   "cell_type": "markdown",
   "metadata": {},
   "source": [
    "### Visualisation of magnitude of total field"
   ]
  },
  {
   "cell_type": "code",
   "execution_count": null,
   "metadata": {
    "scrolled": false
   },
   "outputs": [],
   "source": [
    "fig = plt.figure(figsize=(10, 8))\n",
    "plt.imshow(np.abs(total_field.T), extent=[xmin, xmax, ymin, ymax], clim=[0,2e6], cmap='viridis')\n",
    "theta = np.linspace(0, 2*np.pi, 100)\n",
    "plt.plot(np.cos(theta), np.sin(theta), 'k')\n",
    "plt.xlabel('x')\n",
    "plt.ylabel('y')\n",
    "plt.colorbar()\n",
    "plt.show()"
   ]
  },
  {
   "cell_type": "markdown",
   "metadata": {},
   "source": [
    "### Visualisation of magnitude of incident field"
   ]
  },
  {
   "cell_type": "code",
   "execution_count": null,
   "metadata": {
    "scrolled": false
   },
   "outputs": [],
   "source": [
    "incident_pressure = incident_pressure.reshape([Nx, Ny])\n",
    "fig = plt.figure(figsize=(10, 8))\n",
    "plt.imshow(np.abs(incident_pressure.T), extent=[xmin, xmax, ymin, ymax], clim=[0,2e6], cmap='viridis')\n",
    "theta = np.linspace(0, 2*np.pi, 100)\n",
    "plt.plot(np.cos(theta), np.sin(theta), 'k')\n",
    "plt.xlabel('x')\n",
    "plt.ylabel('y')\n",
    "plt.colorbar()\n",
    "plt.show()"
   ]
  },
  {
   "cell_type": "code",
   "execution_count": null,
   "metadata": {},
   "outputs": [],
   "source": []
  }
 ],
 "metadata": {
  "kernelspec": {
   "display_name": "Python 3",
   "language": "python",
   "name": "python3"
  },
  "language_info": {
   "codemirror_mode": {
    "name": "ipython",
    "version": 3
   },
   "file_extension": ".py",
   "mimetype": "text/x-python",
   "name": "python",
   "nbconvert_exporter": "python",
   "pygments_lexer": "ipython3",
   "version": "3.5.2"
  }
 },
 "nbformat": 4,
 "nbformat_minor": 4
}
