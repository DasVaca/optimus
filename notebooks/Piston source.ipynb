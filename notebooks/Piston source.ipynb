{
 "cells": [
  {
   "cell_type": "markdown",
   "metadata": {},
   "source": [
    "# Simulate acoustic wave propagation of a plane circular piston\n",
    "\n",
    "\n",
    "The OptimUS library provides functionality to simulate acoustic wave propagation in unbounded domains with homogeneous scatterers. This notebook showcases the basic functionality to perform acoustic simulations. The simulation consists of plane circular piston in an unbounded water region and a spherical scatterer resembling bone.\n"
   ]
  },
  {
   "cell_type": "markdown",
   "metadata": {},
   "source": [
    "## Import the OptimUS library\n",
    "\n",
    "Load the OptimUS library. Make sure the source code is in the Python path."
   ]
  },
  {
   "cell_type": "code",
   "execution_count": 1,
   "metadata": {},
   "outputs": [],
   "source": [
    "# Make sure the OptimUS library is in the Python path.\n",
    "import sys\n",
    "sys.path.append('..')"
   ]
  },
  {
   "cell_type": "code",
   "execution_count": 2,
   "metadata": {},
   "outputs": [],
   "source": [
    "import optimus"
   ]
  },
  {
   "cell_type": "code",
   "execution_count": 3,
   "metadata": {},
   "outputs": [
    {
     "name": "stdout",
     "output_type": "stream",
     "text": [
      "OptimUS version: 0.0.0\n"
     ]
    }
   ],
   "source": [
    "print(\"OptimUS version:\", optimus.__version__)"
   ]
  },
  {
   "cell_type": "markdown",
   "metadata": {},
   "source": [
    "## Specify the physical settings for the simulation\n",
    "\n",
    "The OptimUS library provides functionality to simulate acoustic wave propagation. For each simulation, one needs to specify the type of source of the acoustic field, the geometry of the scatterer, and the material parameters."
   ]
  },
  {
   "cell_type": "markdown",
   "metadata": {},
   "source": [
    "The OptimUS library provides different predefined wave fields, among which is a plane circular piston radiating in 2*pi space. The piston requires the frequency to be specified and, optionally, the source axis, the velocity and its location, which is in this case at [-4, 0, 0]."
   ]
  },
  {
   "cell_type": "code",
   "execution_count": 4,
   "metadata": {},
   "outputs": [],
   "source": [
    "frequency = 1000\n",
    "radius = 1\n",
    "location = [-4, 0, 0]\n",
    "source = optimus.source.create_piston(frequency, radius=radius, location=location)"
   ]
  },
  {
   "cell_type": "markdown",
   "metadata": {},
   "source": [
    "Several canonical shapes for scatterers are available in the OptimUS library. Let us use a spherical geometry, by default centered at the origin and unit radius. It is recommended to specify the meshwidth of the triangular surface grid that represents the geometry's surface. A lower value of `h` increases the precision of the algorithm but also the computational costs."
   ]
  },
  {
   "cell_type": "code",
   "execution_count": 5,
   "metadata": {},
   "outputs": [],
   "source": [
    "geometry = optimus.geometry.shapes.Sphere(h=0.4)"
   ]
  },
  {
   "cell_type": "markdown",
   "metadata": {},
   "source": [
    "The exterior medium will be water and the interior medium bone. Default parameters of several materials can be retrieved from OptimUS. Alternatively, the user can create a material with specific values for density and wavespeed."
   ]
  },
  {
   "cell_type": "code",
   "execution_count": 6,
   "metadata": {},
   "outputs": [],
   "source": [
    "material_ext = optimus.material.load_material('water')\n",
    "material_int = optimus.material.load_material('bone (cortical)')"
   ]
  },
  {
   "cell_type": "markdown",
   "metadata": {},
   "source": [
    "## Simulate the wave model\n",
    "\n",
    "The OptimUS library uses the Boundary Element Method to simulate acoustic wave propagation. A model with default settings can be used. Alternatively, other boundary integral formulations and preconditioners can be chosen or specified manually.\n",
    "\n",
    "Each model requires a source and geometry object, as well as the material parameters of the unbounded exterior domain and the bounded interior domain."
   ]
  },
  {
   "cell_type": "code",
   "execution_count": 7,
   "metadata": {},
   "outputs": [],
   "source": [
    "model = optimus.model.create_default_model(source, geometry, material_ext, material_int)"
   ]
  },
  {
   "cell_type": "markdown",
   "metadata": {},
   "source": [
    "After creating the model, it needs to be solved to obtain the surface potentials at the material interface. Depending on the size of the model, this can be computationally expensive. The solution will be stored inside the model object."
   ]
  },
  {
   "cell_type": "code",
   "execution_count": 8,
   "metadata": {},
   "outputs": [
    {
     "ename": "UnsupportedError",
     "evalue": "Failed in nopython mode pipeline (step: nopython mode backend)\n\u001b[1mFailed in nopython mode pipeline (step: nopython frontend)\n\u001b[1mUnsupported op-code encountered: arrayexpr(ty=array(float64, 1d, F), expr=(<built-in function sub>, [Var($157.12, transducers.py:577), Var($157.20, transducers.py:577)]))\n\u001b[1m\nFile \"../optimus/source/transducers.py\", line 577:\u001b[0m\n\u001b[1mdef calculate_field_from_point_sources_numba(\n    <source elided>\n            distances_between_all_points = _np.linalg.norm(\n\u001b[1m                locations_source[:, i] - locations_observation[:, i]\n\u001b[0m                \u001b[1m^\u001b[0m\u001b[0m\n\u001b[0m\n\u001b[0m\u001b[1m[1] During: lowering \"id=5[LoopNest(index_variable = parfor_index.59, range = (0, $57.5, 1))]{154: <ir.Block at ../optimus/source/transducers.py (558)>, 324: <ir.Block at ../optimus/source/transducers.py (597)>, 77: <ir.Block at ../optimus/source/transducers.py (552)>, 157: <ir.Block at ../optimus/source/transducers.py (558)>}Var(parfor_index.59, transducers.py:552)\" at ../optimus/source/transducers.py (552)\u001b[0m\n\nUnsupported functionality was found in the code Numba was trying to compile.\n\nIf this functionality is important to you please file a feature request at:\nhttps://github.com/numba/numba/issues/new\n",
     "output_type": "error",
     "traceback": [
      "\u001b[0;31m---------------------------------------------------------------------------\u001b[0m",
      "\u001b[0;31mUnsupportedError\u001b[0m                          Traceback (most recent call last)",
      "\u001b[0;32m<ipython-input-8-8710f032d6e5>\u001b[0m in \u001b[0;36m<module>\u001b[0;34m\u001b[0m\n\u001b[0;32m----> 1\u001b[0;31m \u001b[0mmodel\u001b[0m\u001b[0;34m.\u001b[0m\u001b[0msolve\u001b[0m\u001b[0;34m(\u001b[0m\u001b[0;34m)\u001b[0m\u001b[0;34m\u001b[0m\u001b[0m\n\u001b[0m",
      "\u001b[0;32m~/localwork/optimus/model/acoustics.py\u001b[0m in \u001b[0;36msolve\u001b[0;34m(self)\u001b[0m\n\u001b[1;32m     71\u001b[0m         \u001b[0mself\u001b[0m\u001b[0;34m.\u001b[0m\u001b[0m_create_continuous_operator\u001b[0m\u001b[0;34m(\u001b[0m\u001b[0;34m)\u001b[0m\u001b[0;34m\u001b[0m\u001b[0m\n\u001b[1;32m     72\u001b[0m         \u001b[0mself\u001b[0m\u001b[0;34m.\u001b[0m\u001b[0m_create_preconditioner\u001b[0m\u001b[0;34m(\u001b[0m\u001b[0;34m)\u001b[0m\u001b[0;34m\u001b[0m\u001b[0m\n\u001b[0;32m---> 73\u001b[0;31m         \u001b[0mself\u001b[0m\u001b[0;34m.\u001b[0m\u001b[0m_create_rhs_vector\u001b[0m\u001b[0;34m(\u001b[0m\u001b[0;34m)\u001b[0m\u001b[0;34m\u001b[0m\u001b[0m\n\u001b[0m\u001b[1;32m     74\u001b[0m         \u001b[0mself\u001b[0m\u001b[0;34m.\u001b[0m\u001b[0m_create_discrete_system\u001b[0m\u001b[0;34m(\u001b[0m\u001b[0;34m)\u001b[0m\u001b[0;34m\u001b[0m\u001b[0m\n\u001b[1;32m     75\u001b[0m         \u001b[0mself\u001b[0m\u001b[0;34m.\u001b[0m\u001b[0m_solve_linear_system\u001b[0m\u001b[0;34m(\u001b[0m\u001b[0;34m)\u001b[0m\u001b[0;34m\u001b[0m\u001b[0m\n",
      "\u001b[0;32m~/localwork/optimus/model/acoustics.py\u001b[0m in \u001b[0;36m_create_rhs_vector\u001b[0;34m(self)\u001b[0m\n\u001b[1;32m    179\u001b[0m             \u001b[0mspace_neumann\u001b[0m\u001b[0;34m=\u001b[0m\u001b[0mself\u001b[0m\u001b[0;34m.\u001b[0m\u001b[0msurface_spaces\u001b[0m\u001b[0;34m[\u001b[0m\u001b[0;36m1\u001b[0m\u001b[0;34m]\u001b[0m\u001b[0;34m,\u001b[0m\u001b[0;34m\u001b[0m\u001b[0m\n\u001b[1;32m    180\u001b[0m             \u001b[0mdirichlet_trace\u001b[0m\u001b[0;34m=\u001b[0m\u001b[0;32mTrue\u001b[0m\u001b[0;34m,\u001b[0m\u001b[0;34m\u001b[0m\u001b[0m\n\u001b[0;32m--> 181\u001b[0;31m             \u001b[0mneumann_trace\u001b[0m\u001b[0;34m=\u001b[0m\u001b[0;32mTrue\u001b[0m\u001b[0;34m,\u001b[0m\u001b[0;34m\u001b[0m\u001b[0m\n\u001b[0m\u001b[1;32m    182\u001b[0m         )\n\u001b[1;32m    183\u001b[0m \u001b[0;34m\u001b[0m\u001b[0m\n",
      "\u001b[0;32m~/localwork/optimus/source/piston.py\u001b[0m in \u001b[0;36mcalc_surface_traces\u001b[0;34m(self, medium, space_dirichlet, space_neumann, dirichlet_trace, neumann_trace)\u001b[0m\n\u001b[1;32m    221\u001b[0m             \u001b[0mspace_neumann\u001b[0m\u001b[0;34m,\u001b[0m\u001b[0;34m\u001b[0m\u001b[0m\n\u001b[1;32m    222\u001b[0m             \u001b[0mdirichlet_trace\u001b[0m\u001b[0;34m,\u001b[0m\u001b[0;34m\u001b[0m\u001b[0m\n\u001b[0;32m--> 223\u001b[0;31m             \u001b[0mneumann_trace\u001b[0m\u001b[0;34m,\u001b[0m\u001b[0;34m\u001b[0m\u001b[0m\n\u001b[0m\u001b[1;32m    224\u001b[0m         )\n",
      "\u001b[0;32m~/localwork/optimus/source/common.py\u001b[0m in \u001b[0;36m_calc_surface_traces_from_coefficients\u001b[0;34m(self, medium, space_dirichlet, space_neumann, dirichlet_trace, neumann_trace)\u001b[0m\n\u001b[1;32m    192\u001b[0m                     \u001b[0mgradient_val\u001b[0m\u001b[0;34m,\u001b[0m\u001b[0;34m\u001b[0m\u001b[0m\n\u001b[1;32m    193\u001b[0m                 \u001b[0;34m)\u001b[0m \u001b[0;34m=\u001b[0m \u001b[0mself\u001b[0m\u001b[0;34m.\u001b[0m\u001b[0mpressure_field_and_normal_gradient\u001b[0m\u001b[0;34m(\u001b[0m\u001b[0;34m\u001b[0m\u001b[0m\n\u001b[0;32m--> 194\u001b[0;31m                     \u001b[0mmedium\u001b[0m\u001b[0;34m,\u001b[0m \u001b[0mpoints_dirichlet\u001b[0m\u001b[0;34m,\u001b[0m \u001b[0mnormals_neumann\u001b[0m\u001b[0;34m\u001b[0m\u001b[0m\n\u001b[0m\u001b[1;32m    195\u001b[0m                 )\n\u001b[1;32m    196\u001b[0m             \u001b[0;32melse\u001b[0m\u001b[0;34m:\u001b[0m\u001b[0;34m\u001b[0m\u001b[0m\n",
      "\u001b[0;32m~/localwork/optimus/source/piston.py\u001b[0m in \u001b[0;36mpressure_field_and_normal_gradient\u001b[0;34m(self, medium, locations, normals)\u001b[0m\n\u001b[1;32m    185\u001b[0m         \u001b[0munit_normals\u001b[0m \u001b[0;34m=\u001b[0m \u001b[0m_convert_to_unit_vector\u001b[0m\u001b[0;34m(\u001b[0m\u001b[0mnormals\u001b[0m\u001b[0;34m)\u001b[0m\u001b[0;34m\u001b[0m\u001b[0m\n\u001b[1;32m    186\u001b[0m \u001b[0;34m\u001b[0m\u001b[0m\n\u001b[0;32m--> 187\u001b[0;31m         \u001b[0mincident_field\u001b[0m \u001b[0;34m=\u001b[0m \u001b[0m_transducer_field\u001b[0m\u001b[0;34m(\u001b[0m\u001b[0mself\u001b[0m\u001b[0;34m,\u001b[0m \u001b[0mmedium\u001b[0m\u001b[0;34m,\u001b[0m \u001b[0mpoints\u001b[0m\u001b[0;34m,\u001b[0m \u001b[0munit_normals\u001b[0m\u001b[0;34m)\u001b[0m\u001b[0;34m\u001b[0m\u001b[0m\n\u001b[0m\u001b[1;32m    188\u001b[0m         \u001b[0mpressure\u001b[0m \u001b[0;34m=\u001b[0m \u001b[0mincident_field\u001b[0m\u001b[0;34m.\u001b[0m\u001b[0mpressure\u001b[0m\u001b[0;34m\u001b[0m\u001b[0m\n\u001b[1;32m    189\u001b[0m         \u001b[0mgradient\u001b[0m \u001b[0;34m=\u001b[0m \u001b[0mincident_field\u001b[0m\u001b[0;34m.\u001b[0m\u001b[0mnormal_pressure_gradient\u001b[0m\u001b[0;34m\u001b[0m\u001b[0m\n",
      "\u001b[0;32m~/localwork/optimus/source/transducers.py\u001b[0m in \u001b[0;36mtransducer_field\u001b[0;34m(source, medium, field_locations, normals, verbose)\u001b[0m\n\u001b[1;32m     51\u001b[0m     \u001b[0mtransducer\u001b[0m\u001b[0;34m.\u001b[0m\u001b[0mgenerate_source_points\u001b[0m\u001b[0;34m(\u001b[0m\u001b[0;34m)\u001b[0m\u001b[0;34m\u001b[0m\u001b[0m\n\u001b[1;32m     52\u001b[0m \u001b[0;34m\u001b[0m\u001b[0m\n\u001b[0;32m---> 53\u001b[0;31m     \u001b[0mtransducer\u001b[0m\u001b[0;34m.\u001b[0m\u001b[0mcalc_pressure_field\u001b[0m\u001b[0;34m(\u001b[0m\u001b[0;34m)\u001b[0m\u001b[0;34m\u001b[0m\u001b[0m\n\u001b[0m\u001b[1;32m     54\u001b[0m \u001b[0;34m\u001b[0m\u001b[0m\n\u001b[1;32m     55\u001b[0m     \u001b[0;32mreturn\u001b[0m \u001b[0mtransducer\u001b[0m\u001b[0;34m\u001b[0m\u001b[0m\n",
      "\u001b[0;32m~/localwork/optimus/source/transducers.py\u001b[0m in \u001b[0;36mcalc_pressure_field\u001b[0;34m(self)\u001b[0m\n\u001b[1;32m    479\u001b[0m             \u001b[0mself\u001b[0m\u001b[0;34m.\u001b[0m\u001b[0mdensity\u001b[0m\u001b[0;34m,\u001b[0m\u001b[0;34m\u001b[0m\u001b[0m\n\u001b[1;32m    480\u001b[0m             \u001b[0mself\u001b[0m\u001b[0;34m.\u001b[0m\u001b[0mwavenumber\u001b[0m\u001b[0;34m,\u001b[0m\u001b[0;34m\u001b[0m\u001b[0m\n\u001b[0;32m--> 481\u001b[0;31m             \u001b[0mself\u001b[0m\u001b[0;34m.\u001b[0m\u001b[0msource_weights\u001b[0m\u001b[0;34m,\u001b[0m\u001b[0;34m\u001b[0m\u001b[0m\n\u001b[0m\u001b[1;32m    482\u001b[0m         )\n\u001b[1;32m    483\u001b[0m \u001b[0;34m\u001b[0m\u001b[0m\n",
      "\u001b[0;32m~/localwork/optimus/source/transducers.py\u001b[0m in \u001b[0;36mcalc_field_from_point_sources\u001b[0;34m(locations_source, locations_observation, frequency, density, wavenumber, source_weights)\u001b[0m\n\u001b[1;32m    676\u001b[0m         \u001b[0mgreens_gradient_in_observation_points_scaled\u001b[0m\u001b[0;34m,\u001b[0m\u001b[0;34m\u001b[0m\u001b[0m\n\u001b[1;32m    677\u001b[0m     \u001b[0;34m)\u001b[0m \u001b[0;34m=\u001b[0m \u001b[0mcalculate_field_from_point_sources_numba\u001b[0m\u001b[0;34m(\u001b[0m\u001b[0;34m\u001b[0m\u001b[0m\n\u001b[0;32m--> 678\u001b[0;31m         \u001b[0mlocations_source\u001b[0m\u001b[0;34m,\u001b[0m \u001b[0mlocations_observation\u001b[0m\u001b[0;34m,\u001b[0m \u001b[0mwavenumber\u001b[0m\u001b[0;34m,\u001b[0m \u001b[0msource_weights\u001b[0m\u001b[0;34m\u001b[0m\u001b[0m\n\u001b[0m\u001b[1;32m    679\u001b[0m     )\n\u001b[1;32m    680\u001b[0m     greens_function_in_observation_points = (\n",
      "\u001b[0;32m/usr/local/lib/python3.5/dist-packages/numba/dispatcher.py\u001b[0m in \u001b[0;36m_compile_for_args\u001b[0;34m(self, *args, **kws)\u001b[0m\n\u001b[1;32m    402\u001b[0m         \u001b[0;32mexcept\u001b[0m \u001b[0merrors\u001b[0m\u001b[0;34m.\u001b[0m\u001b[0mUnsupportedError\u001b[0m \u001b[0;32mas\u001b[0m \u001b[0me\u001b[0m\u001b[0;34m:\u001b[0m\u001b[0;34m\u001b[0m\u001b[0m\n\u001b[1;32m    403\u001b[0m             \u001b[0;31m# Something unsupported is present in the user code, add help info\u001b[0m\u001b[0;34m\u001b[0m\u001b[0;34m\u001b[0m\u001b[0m\n\u001b[0;32m--> 404\u001b[0;31m             \u001b[0merror_rewrite\u001b[0m\u001b[0;34m(\u001b[0m\u001b[0me\u001b[0m\u001b[0;34m,\u001b[0m \u001b[0;34m'unsupported_error'\u001b[0m\u001b[0;34m)\u001b[0m\u001b[0;34m\u001b[0m\u001b[0m\n\u001b[0m\u001b[1;32m    405\u001b[0m         except (errors.NotDefinedError, errors.RedefinedError,\n\u001b[1;32m    406\u001b[0m                 errors.VerificationError) as e:\n",
      "\u001b[0;32m/usr/local/lib/python3.5/dist-packages/numba/dispatcher.py\u001b[0m in \u001b[0;36merror_rewrite\u001b[0;34m(e, issue_type)\u001b[0m\n\u001b[1;32m    342\u001b[0m                 \u001b[0;32mraise\u001b[0m \u001b[0me\u001b[0m\u001b[0;34m\u001b[0m\u001b[0m\n\u001b[1;32m    343\u001b[0m             \u001b[0;32melse\u001b[0m\u001b[0;34m:\u001b[0m\u001b[0;34m\u001b[0m\u001b[0m\n\u001b[0;32m--> 344\u001b[0;31m                 \u001b[0mreraise\u001b[0m\u001b[0;34m(\u001b[0m\u001b[0mtype\u001b[0m\u001b[0;34m(\u001b[0m\u001b[0me\u001b[0m\u001b[0;34m)\u001b[0m\u001b[0;34m,\u001b[0m \u001b[0me\u001b[0m\u001b[0;34m,\u001b[0m \u001b[0;32mNone\u001b[0m\u001b[0;34m)\u001b[0m\u001b[0;34m\u001b[0m\u001b[0m\n\u001b[0m\u001b[1;32m    345\u001b[0m \u001b[0;34m\u001b[0m\u001b[0m\n\u001b[1;32m    346\u001b[0m         \u001b[0margtypes\u001b[0m \u001b[0;34m=\u001b[0m \u001b[0;34m[\u001b[0m\u001b[0;34m]\u001b[0m\u001b[0;34m\u001b[0m\u001b[0m\n",
      "\u001b[0;32m/usr/local/lib/python3.5/dist-packages/numba/six.py\u001b[0m in \u001b[0;36mreraise\u001b[0;34m(tp, value, tb)\u001b[0m\n\u001b[1;32m    666\u001b[0m             \u001b[0mvalue\u001b[0m \u001b[0;34m=\u001b[0m \u001b[0mtp\u001b[0m\u001b[0;34m(\u001b[0m\u001b[0;34m)\u001b[0m\u001b[0;34m\u001b[0m\u001b[0m\n\u001b[1;32m    667\u001b[0m         \u001b[0;32mif\u001b[0m \u001b[0mvalue\u001b[0m\u001b[0;34m.\u001b[0m\u001b[0m__traceback__\u001b[0m \u001b[0;32mis\u001b[0m \u001b[0;32mnot\u001b[0m \u001b[0mtb\u001b[0m\u001b[0;34m:\u001b[0m\u001b[0;34m\u001b[0m\u001b[0m\n\u001b[0;32m--> 668\u001b[0;31m             \u001b[0;32mraise\u001b[0m \u001b[0mvalue\u001b[0m\u001b[0;34m.\u001b[0m\u001b[0mwith_traceback\u001b[0m\u001b[0;34m(\u001b[0m\u001b[0mtb\u001b[0m\u001b[0;34m)\u001b[0m\u001b[0;34m\u001b[0m\u001b[0m\n\u001b[0m\u001b[1;32m    669\u001b[0m         \u001b[0;32mraise\u001b[0m \u001b[0mvalue\u001b[0m\u001b[0;34m\u001b[0m\u001b[0m\n\u001b[1;32m    670\u001b[0m \u001b[0;34m\u001b[0m\u001b[0m\n",
      "\u001b[0;31mUnsupportedError\u001b[0m: Failed in nopython mode pipeline (step: nopython mode backend)\n\u001b[1mFailed in nopython mode pipeline (step: nopython frontend)\n\u001b[1mUnsupported op-code encountered: arrayexpr(ty=array(float64, 1d, F), expr=(<built-in function sub>, [Var($157.12, transducers.py:577), Var($157.20, transducers.py:577)]))\n\u001b[1m\nFile \"../optimus/source/transducers.py\", line 577:\u001b[0m\n\u001b[1mdef calculate_field_from_point_sources_numba(\n    <source elided>\n            distances_between_all_points = _np.linalg.norm(\n\u001b[1m                locations_source[:, i] - locations_observation[:, i]\n\u001b[0m                \u001b[1m^\u001b[0m\u001b[0m\n\u001b[0m\n\u001b[0m\u001b[1m[1] During: lowering \"id=5[LoopNest(index_variable = parfor_index.59, range = (0, $57.5, 1))]{154: <ir.Block at ../optimus/source/transducers.py (558)>, 324: <ir.Block at ../optimus/source/transducers.py (597)>, 77: <ir.Block at ../optimus/source/transducers.py (552)>, 157: <ir.Block at ../optimus/source/transducers.py (558)>}Var(parfor_index.59, transducers.py:552)\" at ../optimus/source/transducers.py (552)\u001b[0m\n\nUnsupported functionality was found in the code Numba was trying to compile.\n\nIf this functionality is important to you please file a feature request at:\nhttps://github.com/numba/numba/issues/new\n"
     ]
    }
   ],
   "source": [
    "model.solve()"
   ]
  },
  {
   "cell_type": "markdown",
   "metadata": {},
   "source": [
    "## Visualisation of the acoustic field\n",
    "\n",
    "The acoustic field can be calculated in arbitrary points. Let us visualize the field on a grid in the plane $z=0$."
   ]
  },
  {
   "cell_type": "code",
   "execution_count": null,
   "metadata": {},
   "outputs": [],
   "source": [
    "import bempp.api\n",
    "import numpy as np\n",
    "from optimus.source.transducers import transducer_field\n",
    "from matplotlib import pylab as plt"
   ]
  },
  {
   "cell_type": "code",
   "execution_count": null,
   "metadata": {},
   "outputs": [],
   "source": [
    "# Create a visualisation grid\n",
    "Nx = 100\n",
    "Ny = 100\n",
    "xmin, xmax, ymin, ymax = [-3, 3, -3, 3]\n",
    "zval = 0.0\n",
    "plot_grid = np.mgrid[xmin:xmax:Nx * 1j, ymin:ymax:Ny * 1j]\n",
    "points = np.vstack((plot_grid[0].ravel(),\n",
    "                    plot_grid[1].ravel(),\n",
    "                    zval*np.ones(plot_grid[0].size)))\n",
    "\n",
    "# Define the interior and exterior points\n",
    "x, y = points[:2]\n",
    "idx_ext = np.sqrt(x**2 + y**2) > 1.0\n",
    "idx_int = np.logical_not(idx_ext)\n",
    "points_exterior = points[:, idx_ext]\n",
    "points_interior = points[:, idx_int]"
   ]
  },
  {
   "cell_type": "markdown",
   "metadata": {},
   "source": [
    "The incident pressure field is computed at the required locations to calculate the total field"
   ]
  },
  {
   "cell_type": "code",
   "execution_count": null,
   "metadata": {},
   "outputs": [],
   "source": [
    "inc_field = transducer_field(source, material_ext, points)\n",
    "incident_pressure = inc_field.pressure"
   ]
  },
  {
   "cell_type": "markdown",
   "metadata": {},
   "source": [
    "Calculate the fields from the surface potential with the potential operators."
   ]
  },
  {
   "cell_type": "code",
   "execution_count": null,
   "metadata": {},
   "outputs": [],
   "source": [
    "slp_pot_int = bempp.api.operators.potential.helmholtz.single_layer(\n",
    "    model.space[0], points_interior, material_int.compute_wavenumber(source.frequency))\n",
    "slp_pot_ext = bempp.api.operators.potential.helmholtz.single_layer(\n",
    "    model.space[0], points_exterior, material_ext.compute_wavenumber(source.frequency))\n",
    "dlp_pot_int = bempp.api.operators.potential.helmholtz.double_layer(\n",
    "    model.space[0], points_interior, material_int.compute_wavenumber(source.frequency))\n",
    "dlp_pot_ext = bempp.api.operators.potential.helmholtz.double_layer(\n",
    "    model.space[0], points_exterior, material_ext.compute_wavenumber(source.frequency))\n",
    "\n",
    "surfpot_dir_ext, surfpot_neu_ext = model.solution\n",
    "surfpot_dir_int = surfpot_dir_ext\n",
    "surfpot_neu_int = (material_int.density / material_ext.density) * surfpot_neu_ext\n",
    "total_field_int = (slp_pot_int * surfpot_neu_int\n",
    "                   - dlp_pot_int * surfpot_dir_int).ravel()\n",
    "total_field_ext = (dlp_pot_ext * surfpot_dir_ext \n",
    "                   - slp_pot_ext * surfpot_neu_ext).ravel() + incident_pressure[idx_ext]  \n",
    "\n",
    "total_field = np.zeros(points.shape[1], dtype='complex128')\n",
    "total_field[idx_ext] = total_field_ext\n",
    "total_field[idx_int] = total_field_int\n",
    "total_field = total_field.reshape([Nx, Ny])"
   ]
  },
  {
   "cell_type": "markdown",
   "metadata": {},
   "source": [
    "### Visualisation of real part of total field"
   ]
  },
  {
   "cell_type": "code",
   "execution_count": null,
   "metadata": {},
   "outputs": [],
   "source": [
    "fig = plt.figure(figsize=(10, 8))\n",
    "plt.imshow(np.real(total_field.T), extent=[xmin, xmax, ymin, ymax], clim=[-2e6,2e6], cmap='seismic')\n",
    "theta = np.linspace(0, 2*np.pi, 100)\n",
    "plt.plot(np.cos(theta), np.sin(theta), 'k')\n",
    "plt.xlabel('x')\n",
    "plt.ylabel('y')\n",
    "plt.colorbar()\n",
    "plt.show()"
   ]
  },
  {
   "cell_type": "markdown",
   "metadata": {},
   "source": [
    "### Visualisation of magnitude of total field"
   ]
  },
  {
   "cell_type": "code",
   "execution_count": null,
   "metadata": {
    "scrolled": false
   },
   "outputs": [],
   "source": [
    "fig = plt.figure(figsize=(10, 8))\n",
    "plt.imshow(np.abs(total_field.T), extent=[xmin, xmax, ymin, ymax], clim=[0,2e6], cmap='viridis')\n",
    "theta = np.linspace(0, 2*np.pi, 100)\n",
    "plt.plot(np.cos(theta), np.sin(theta), 'k')\n",
    "plt.xlabel('x')\n",
    "plt.ylabel('y')\n",
    "plt.colorbar()\n",
    "plt.show()"
   ]
  },
  {
   "cell_type": "markdown",
   "metadata": {},
   "source": [
    "### Visualisation of magnitude of incident field"
   ]
  },
  {
   "cell_type": "code",
   "execution_count": null,
   "metadata": {
    "scrolled": false
   },
   "outputs": [],
   "source": [
    "incident_pressure = incident_pressure.reshape([Nx, Ny])\n",
    "fig = plt.figure(figsize=(10, 8))\n",
    "plt.imshow(np.abs(incident_pressure.T), extent=[xmin, xmax, ymin, ymax], clim=[0,2e6], cmap='viridis')\n",
    "theta = np.linspace(0, 2*np.pi, 100)\n",
    "plt.plot(np.cos(theta), np.sin(theta), 'k')\n",
    "plt.xlabel('x')\n",
    "plt.ylabel('y')\n",
    "plt.colorbar()\n",
    "plt.show()"
   ]
  },
  {
   "cell_type": "code",
   "execution_count": null,
   "metadata": {},
   "outputs": [],
   "source": []
  },
  {
   "cell_type": "code",
   "execution_count": null,
   "metadata": {},
   "outputs": [],
   "source": []
  }
 ],
 "metadata": {
  "kernelspec": {
   "display_name": "Python 3",
   "language": "python",
   "name": "python3"
  },
  "language_info": {
   "codemirror_mode": {
    "name": "ipython",
    "version": 3
   },
   "file_extension": ".py",
   "mimetype": "text/x-python",
   "name": "python",
   "nbconvert_exporter": "python",
   "pygments_lexer": "ipython3",
   "version": "3.5.2"
  }
 },
 "nbformat": 4,
 "nbformat_minor": 4
}
